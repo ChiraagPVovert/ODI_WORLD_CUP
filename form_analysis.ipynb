{
 "cells": [
  {
   "cell_type": "code",
   "execution_count": 126,
   "id": "7694079e",
   "metadata": {},
   "outputs": [],
   "source": [
    "import pandas as pd"
   ]
  },
  {
   "cell_type": "code",
   "execution_count": 127,
   "id": "88f05685",
   "metadata": {},
   "outputs": [],
   "source": [
    "def chase(team):\n",
    "    \n",
    "    df = pd.read_excel('assets/Form_analysis/Match_stats_and_results.xlsx')\n",
    "    \n",
    "    str_team = team\n",
    "\n",
    "    team = [team]\n",
    "\n",
    "    df = df[df['Team'].isin(team)]\n",
    "    \n",
    "    df1 = df[df['Action'].isin('Set Target')]\n",
    "    won = df1['Result'].value_counts()['Won']\n",
    "    \n",
    "    \n",
    "    \n",
    "    lost = df['Result'].value_counts()['Lost']\n",
    "    \n",
    "    "
   ]
  },
  {
   "cell_type": "code",
   "execution_count": 128,
   "id": "6cf0830d",
   "metadata": {},
   "outputs": [],
   "source": [
    "def team_results(team):\n",
    "    \n",
    "    df = pd.read_excel('assets/Form_analysis/Match_stats_and_results.xlsx')\n",
    "    \n",
    "    str_team = team\n",
    "\n",
    "    team = [team]\n",
    "\n",
    "    df = df[df['Team'].isin(team)]\n",
    "    \n",
    "    won = df['Result'].value_counts()['Won']\n",
    "    lost = df['Result'].value_counts()['Lost']\n",
    "    \n",
    "    if 'No Result' in df['Result'].values:\n",
    "        no_r = df['Result'].value_counts()['No Result']\n",
    "    else:\n",
    "        no_r = 0\n",
    "    \n",
    "    \n",
    "    df_dict = {'Team': [str_team,str_team,str_team],\n",
    "        'Result': ['Won', 'Lost', 'No Result'],\n",
    "        'Count': [won,lost,no_r],\n",
    "          } \n",
    "    df = pd.DataFrame.from_dict(df_dict)\n",
    "    \n",
    "    return df"
   ]
  },
  {
   "cell_type": "code",
   "execution_count": 129,
   "id": "6e463456",
   "metadata": {},
   "outputs": [],
   "source": [
    "a = team_results('New Zealand')"
   ]
  },
  {
   "cell_type": "code",
   "execution_count": 130,
   "id": "287fef04",
   "metadata": {},
   "outputs": [
    {
     "data": {
      "text/html": [
       "<div>\n",
       "<style scoped>\n",
       "    .dataframe tbody tr th:only-of-type {\n",
       "        vertical-align: middle;\n",
       "    }\n",
       "\n",
       "    .dataframe tbody tr th {\n",
       "        vertical-align: top;\n",
       "    }\n",
       "\n",
       "    .dataframe thead th {\n",
       "        text-align: right;\n",
       "    }\n",
       "</style>\n",
       "<table border=\"1\" class=\"dataframe\">\n",
       "  <thead>\n",
       "    <tr style=\"text-align: right;\">\n",
       "      <th></th>\n",
       "      <th>Team</th>\n",
       "      <th>Result</th>\n",
       "      <th>Count</th>\n",
       "    </tr>\n",
       "  </thead>\n",
       "  <tbody>\n",
       "    <tr>\n",
       "      <th>0</th>\n",
       "      <td>New Zealand</td>\n",
       "      <td>Won</td>\n",
       "      <td>22</td>\n",
       "    </tr>\n",
       "    <tr>\n",
       "      <th>1</th>\n",
       "      <td>New Zealand</td>\n",
       "      <td>Lost</td>\n",
       "      <td>12</td>\n",
       "    </tr>\n",
       "    <tr>\n",
       "      <th>2</th>\n",
       "      <td>New Zealand</td>\n",
       "      <td>No Result</td>\n",
       "      <td>2</td>\n",
       "    </tr>\n",
       "  </tbody>\n",
       "</table>\n",
       "</div>"
      ],
      "text/plain": [
       "          Team     Result  Count\n",
       "0  New Zealand        Won     22\n",
       "1  New Zealand       Lost     12\n",
       "2  New Zealand  No Result      2"
      ]
     },
     "execution_count": 130,
     "metadata": {},
     "output_type": "execute_result"
    }
   ],
   "source": [
    "a"
   ]
  },
  {
   "cell_type": "code",
   "execution_count": 131,
   "id": "0a16ceeb",
   "metadata": {},
   "outputs": [],
   "source": [
    "def results_batting_first(team):\n",
    "    \n",
    "    df = pd.read_excel('assets/Form_analysis/Match_stats_and_results.xlsx')\n",
    "\n",
    "    str_team = team\n",
    "\n",
    "    team = [team]\n",
    "\n",
    "    #team = [team]\n",
    "\n",
    "    set_target = ['Set Target']\n",
    "\n",
    "    df = df[df['Team'].isin(team)]\n",
    "\n",
    "    df1 = df[df['Action'].isin(set_target)]\n",
    "    won = df1['Result'].value_counts()['Won']\n",
    "\n",
    "    lost = df1['Result'].value_counts()['Lost']\n",
    "\n",
    "    if 'No Result' in df1['Result'].values:\n",
    "        no_r = df['Result'].value_counts()['No Result']\n",
    "    else:\n",
    "        no_r = 0\n",
    "\n",
    "    df_dict = {'Team': [str_team,str_team,str_team],\n",
    "        'Result': ['Won', 'Lost', 'No Result'],\n",
    "        'Count': [won,lost,no_r],\n",
    "          } \n",
    "    df = pd.DataFrame.from_dict(df_dict)\n",
    "    \n",
    "    return df"
   ]
  },
  {
   "cell_type": "code",
   "execution_count": 132,
   "id": "4117f0d5",
   "metadata": {},
   "outputs": [
    {
     "data": {
      "text/html": [
       "<div>\n",
       "<style scoped>\n",
       "    .dataframe tbody tr th:only-of-type {\n",
       "        vertical-align: middle;\n",
       "    }\n",
       "\n",
       "    .dataframe tbody tr th {\n",
       "        vertical-align: top;\n",
       "    }\n",
       "\n",
       "    .dataframe thead th {\n",
       "        text-align: right;\n",
       "    }\n",
       "</style>\n",
       "<table border=\"1\" class=\"dataframe\">\n",
       "  <thead>\n",
       "    <tr style=\"text-align: right;\">\n",
       "      <th></th>\n",
       "      <th>Team</th>\n",
       "      <th>Result</th>\n",
       "      <th>Count</th>\n",
       "    </tr>\n",
       "  </thead>\n",
       "  <tbody>\n",
       "    <tr>\n",
       "      <th>0</th>\n",
       "      <td>New Zealand</td>\n",
       "      <td>Won</td>\n",
       "      <td>10</td>\n",
       "    </tr>\n",
       "    <tr>\n",
       "      <th>1</th>\n",
       "      <td>New Zealand</td>\n",
       "      <td>Lost</td>\n",
       "      <td>5</td>\n",
       "    </tr>\n",
       "    <tr>\n",
       "      <th>2</th>\n",
       "      <td>New Zealand</td>\n",
       "      <td>No Result</td>\n",
       "      <td>0</td>\n",
       "    </tr>\n",
       "  </tbody>\n",
       "</table>\n",
       "</div>"
      ],
      "text/plain": [
       "          Team     Result  Count\n",
       "0  New Zealand        Won     10\n",
       "1  New Zealand       Lost      5\n",
       "2  New Zealand  No Result      0"
      ]
     },
     "execution_count": 132,
     "metadata": {},
     "output_type": "execute_result"
    }
   ],
   "source": [
    "a = results_batting_first('New Zealand')\n",
    "a"
   ]
  },
  {
   "cell_type": "code",
   "execution_count": 133,
   "id": "797277e9",
   "metadata": {},
   "outputs": [],
   "source": [
    "def results_bowling_first(team):\n",
    "\n",
    "    df = pd.read_excel('assets/Form_analysis/Match_stats_and_results.xlsx')\n",
    "\n",
    "    str_team = team\n",
    "\n",
    "    team = [team]\n",
    "\n",
    "    chase = ['Chase']\n",
    "\n",
    "    df = df[df['Team'].isin(team)]\n",
    "\n",
    "    df1 = df[df['Action'].isin(chase)]\n",
    "    won = df1['Result'].value_counts()['Won']\n",
    "\n",
    "    lost = df1['Result'].value_counts()['Lost']\n",
    "\n",
    "    if 'No Result' in df1['Result'].values:\n",
    "        no_r = df['Result'].value_counts()['No Result']\n",
    "    else:\n",
    "        no_r = 0\n",
    "\n",
    "    df_dict = {'Team': [str_team,str_team,str_team],\n",
    "        'Result': ['Won', 'Lost', 'No Result'],\n",
    "        'Count': [won,lost,no_r],\n",
    "          } \n",
    "    df = pd.DataFrame.from_dict(df_dict)\n",
    "    \n",
    "    return df"
   ]
  },
  {
   "cell_type": "code",
   "execution_count": 134,
   "id": "d1dbd663",
   "metadata": {},
   "outputs": [
    {
     "data": {
      "text/html": [
       "<div>\n",
       "<style scoped>\n",
       "    .dataframe tbody tr th:only-of-type {\n",
       "        vertical-align: middle;\n",
       "    }\n",
       "\n",
       "    .dataframe tbody tr th {\n",
       "        vertical-align: top;\n",
       "    }\n",
       "\n",
       "    .dataframe thead th {\n",
       "        text-align: right;\n",
       "    }\n",
       "</style>\n",
       "<table border=\"1\" class=\"dataframe\">\n",
       "  <thead>\n",
       "    <tr style=\"text-align: right;\">\n",
       "      <th></th>\n",
       "      <th>Team</th>\n",
       "      <th>Result</th>\n",
       "      <th>Count</th>\n",
       "    </tr>\n",
       "  </thead>\n",
       "  <tbody>\n",
       "    <tr>\n",
       "      <th>0</th>\n",
       "      <td>New Zealand</td>\n",
       "      <td>Won</td>\n",
       "      <td>12</td>\n",
       "    </tr>\n",
       "    <tr>\n",
       "      <th>1</th>\n",
       "      <td>New Zealand</td>\n",
       "      <td>Lost</td>\n",
       "      <td>7</td>\n",
       "    </tr>\n",
       "    <tr>\n",
       "      <th>2</th>\n",
       "      <td>New Zealand</td>\n",
       "      <td>No Result</td>\n",
       "      <td>2</td>\n",
       "    </tr>\n",
       "  </tbody>\n",
       "</table>\n",
       "</div>"
      ],
      "text/plain": [
       "          Team     Result  Count\n",
       "0  New Zealand        Won     12\n",
       "1  New Zealand       Lost      7\n",
       "2  New Zealand  No Result      2"
      ]
     },
     "execution_count": 134,
     "metadata": {},
     "output_type": "execute_result"
    }
   ],
   "source": [
    "a = results_bowling_first('New Zealand')\n",
    "a"
   ]
  },
  {
   "cell_type": "code",
   "execution_count": 135,
   "id": "4e0d2c64",
   "metadata": {},
   "outputs": [],
   "source": [
    "def results_winning_toss_and_chasing(team):\n",
    "    \n",
    "    df = pd.read_excel('assets/Form_analysis/Match_stats_and_results.xlsx')\n",
    "\n",
    "    str_team = team\n",
    "\n",
    "    team = [team]\n",
    "\n",
    "    chase = ['Chase']\n",
    "    toss = ['Won']\n",
    "\n",
    "    df = df[df['Team'].isin(team)]\n",
    "    \n",
    "    df1 = df[df['Toss'].isin(toss)]\n",
    "    df1 = df1[df1['Action'].isin(chase)]\n",
    "    \n",
    "    won = df1['Result'].value_counts()['Won']\n",
    "    \n",
    "    lost = df1['Result'].value_counts()['Lost']\n",
    "\n",
    "    if 'No Result' in df1['Result'].values:\n",
    "        no_r = df['Result'].value_counts()['No Result']\n",
    "    else:\n",
    "        no_r = 0\n",
    "\n",
    "    df_dict = {'Team': [str_team,str_team,str_team],\n",
    "        'Result': ['Won', 'Lost', 'No Result'],\n",
    "        'Count': [won,lost,no_r],\n",
    "          } \n",
    "    df = pd.DataFrame.from_dict(df_dict)\n",
    "    \n",
    "    return df"
   ]
  },
  {
   "cell_type": "code",
   "execution_count": 136,
   "id": "4d156444",
   "metadata": {},
   "outputs": [
    {
     "data": {
      "text/html": [
       "<div>\n",
       "<style scoped>\n",
       "    .dataframe tbody tr th:only-of-type {\n",
       "        vertical-align: middle;\n",
       "    }\n",
       "\n",
       "    .dataframe tbody tr th {\n",
       "        vertical-align: top;\n",
       "    }\n",
       "\n",
       "    .dataframe thead th {\n",
       "        text-align: right;\n",
       "    }\n",
       "</style>\n",
       "<table border=\"1\" class=\"dataframe\">\n",
       "  <thead>\n",
       "    <tr style=\"text-align: right;\">\n",
       "      <th></th>\n",
       "      <th>Team</th>\n",
       "      <th>Result</th>\n",
       "      <th>Count</th>\n",
       "    </tr>\n",
       "  </thead>\n",
       "  <tbody>\n",
       "    <tr>\n",
       "      <th>0</th>\n",
       "      <td>New Zealand</td>\n",
       "      <td>Won</td>\n",
       "      <td>8</td>\n",
       "    </tr>\n",
       "    <tr>\n",
       "      <th>1</th>\n",
       "      <td>New Zealand</td>\n",
       "      <td>Lost</td>\n",
       "      <td>5</td>\n",
       "    </tr>\n",
       "    <tr>\n",
       "      <th>2</th>\n",
       "      <td>New Zealand</td>\n",
       "      <td>No Result</td>\n",
       "      <td>2</td>\n",
       "    </tr>\n",
       "  </tbody>\n",
       "</table>\n",
       "</div>"
      ],
      "text/plain": [
       "          Team     Result  Count\n",
       "0  New Zealand        Won      8\n",
       "1  New Zealand       Lost      5\n",
       "2  New Zealand  No Result      2"
      ]
     },
     "execution_count": 136,
     "metadata": {},
     "output_type": "execute_result"
    }
   ],
   "source": [
    "a = results_winning_toss_and_chasing('New Zealand')\n",
    "a"
   ]
  },
  {
   "cell_type": "code",
   "execution_count": 139,
   "id": "44e284ff",
   "metadata": {},
   "outputs": [],
   "source": [
    "def results_winning_toss_and_defending(team):\n",
    "    \n",
    "    df = pd.read_excel('assets/Form_analysis/Match_stats_and_results.xlsx')\n",
    "\n",
    "    str_team = team\n",
    "\n",
    "    team = [team]\n",
    "\n",
    "    defend = ['Set Target']\n",
    "    toss = ['Won']\n",
    "\n",
    "    df = df[df['Team'].isin(team)]\n",
    "    \n",
    "    df1 = df[df['Toss'].isin(toss)]\n",
    "    df1 = df1[df1['Action'].isin(defend)]\n",
    "    \n",
    "    won = df1['Result'].value_counts()['Won']\n",
    "    \n",
    "    if 'Lost' in df1['Result'].values:\n",
    "        lost = df1['Result'].value_counts()['Lost']\n",
    "    else:\n",
    "        lost = 0\n",
    "\n",
    "    if 'No Result' in df1['Result'].values:\n",
    "        no_r = df['Result'].value_counts()['No Result']\n",
    "    else:\n",
    "        no_r = 0\n",
    "\n",
    "    df_dict = {'Team': [str_team,str_team,str_team],\n",
    "        'Result': ['Won', 'Lost', 'No Result'],\n",
    "        'Count': [won,lost,no_r],\n",
    "          } \n",
    "    df = pd.DataFrame.from_dict(df_dict)\n",
    "    \n",
    "    return df"
   ]
  },
  {
   "cell_type": "code",
   "execution_count": 140,
   "id": "c2ec5e25",
   "metadata": {},
   "outputs": [
    {
     "data": {
      "text/html": [
       "<div>\n",
       "<style scoped>\n",
       "    .dataframe tbody tr th:only-of-type {\n",
       "        vertical-align: middle;\n",
       "    }\n",
       "\n",
       "    .dataframe tbody tr th {\n",
       "        vertical-align: top;\n",
       "    }\n",
       "\n",
       "    .dataframe thead th {\n",
       "        text-align: right;\n",
       "    }\n",
       "</style>\n",
       "<table border=\"1\" class=\"dataframe\">\n",
       "  <thead>\n",
       "    <tr style=\"text-align: right;\">\n",
       "      <th></th>\n",
       "      <th>Team</th>\n",
       "      <th>Result</th>\n",
       "      <th>Count</th>\n",
       "    </tr>\n",
       "  </thead>\n",
       "  <tbody>\n",
       "    <tr>\n",
       "      <th>0</th>\n",
       "      <td>New Zealand</td>\n",
       "      <td>Won</td>\n",
       "      <td>5</td>\n",
       "    </tr>\n",
       "    <tr>\n",
       "      <th>1</th>\n",
       "      <td>New Zealand</td>\n",
       "      <td>Lost</td>\n",
       "      <td>0</td>\n",
       "    </tr>\n",
       "    <tr>\n",
       "      <th>2</th>\n",
       "      <td>New Zealand</td>\n",
       "      <td>No Result</td>\n",
       "      <td>0</td>\n",
       "    </tr>\n",
       "  </tbody>\n",
       "</table>\n",
       "</div>"
      ],
      "text/plain": [
       "          Team     Result  Count\n",
       "0  New Zealand        Won      5\n",
       "1  New Zealand       Lost      0\n",
       "2  New Zealand  No Result      0"
      ]
     },
     "execution_count": 140,
     "metadata": {},
     "output_type": "execute_result"
    }
   ],
   "source": [
    "a = results_winning_toss_and_defending('New Zealand')\n",
    "a"
   ]
  },
  {
   "cell_type": "code",
   "execution_count": 141,
   "id": "3b52d3b8",
   "metadata": {},
   "outputs": [],
   "source": [
    "def results_losing_toss_and_chasing(team):\n",
    "    \n",
    "    df = pd.read_excel('assets/Form_analysis/Match_stats_and_results.xlsx')\n",
    "\n",
    "    str_team = team\n",
    "\n",
    "    team = [team]\n",
    "\n",
    "    chase = ['Chase']\n",
    "    toss = ['Lost']\n",
    "\n",
    "    df = df[df['Team'].isin(team)]\n",
    "    \n",
    "    df1 = df[df['Toss'].isin(toss)]\n",
    "    df1 = df1[df1['Action'].isin(chase)]\n",
    "    \n",
    "    won = df1['Result'].value_counts()['Won']\n",
    "    \n",
    "    lost = df1['Result'].value_counts()['Lost']\n",
    "\n",
    "    if 'No Result' in df1['Result'].values:\n",
    "        no_r = df['Result'].value_counts()['No Result']\n",
    "    else:\n",
    "        no_r = 0\n",
    "\n",
    "    df_dict = {'Team': [str_team,str_team,str_team],\n",
    "        'Result': ['Won', 'Lost', 'No Result'],\n",
    "        'Count': [won,lost,no_r],\n",
    "          } \n",
    "    df = pd.DataFrame.from_dict(df_dict)\n",
    "    \n",
    "    return df"
   ]
  },
  {
   "cell_type": "code",
   "execution_count": 142,
   "id": "0a904ad1",
   "metadata": {},
   "outputs": [
    {
     "data": {
      "text/html": [
       "<div>\n",
       "<style scoped>\n",
       "    .dataframe tbody tr th:only-of-type {\n",
       "        vertical-align: middle;\n",
       "    }\n",
       "\n",
       "    .dataframe tbody tr th {\n",
       "        vertical-align: top;\n",
       "    }\n",
       "\n",
       "    .dataframe thead th {\n",
       "        text-align: right;\n",
       "    }\n",
       "</style>\n",
       "<table border=\"1\" class=\"dataframe\">\n",
       "  <thead>\n",
       "    <tr style=\"text-align: right;\">\n",
       "      <th></th>\n",
       "      <th>Team</th>\n",
       "      <th>Result</th>\n",
       "      <th>Count</th>\n",
       "    </tr>\n",
       "  </thead>\n",
       "  <tbody>\n",
       "    <tr>\n",
       "      <th>0</th>\n",
       "      <td>New Zealand</td>\n",
       "      <td>Won</td>\n",
       "      <td>4</td>\n",
       "    </tr>\n",
       "    <tr>\n",
       "      <th>1</th>\n",
       "      <td>New Zealand</td>\n",
       "      <td>Lost</td>\n",
       "      <td>2</td>\n",
       "    </tr>\n",
       "    <tr>\n",
       "      <th>2</th>\n",
       "      <td>New Zealand</td>\n",
       "      <td>No Result</td>\n",
       "      <td>0</td>\n",
       "    </tr>\n",
       "  </tbody>\n",
       "</table>\n",
       "</div>"
      ],
      "text/plain": [
       "          Team     Result  Count\n",
       "0  New Zealand        Won      4\n",
       "1  New Zealand       Lost      2\n",
       "2  New Zealand  No Result      0"
      ]
     },
     "execution_count": 142,
     "metadata": {},
     "output_type": "execute_result"
    }
   ],
   "source": [
    "a = results_losing_toss_and_chasing('New Zealand')\n",
    "a"
   ]
  },
  {
   "cell_type": "code",
   "execution_count": 143,
   "id": "c3c27800",
   "metadata": {},
   "outputs": [],
   "source": [
    "def results_losing_toss_and_defending(team):\n",
    "    \n",
    "    df = pd.read_excel('assets/Form_analysis/Match_stats_and_results.xlsx')\n",
    "\n",
    "    str_team = team\n",
    "\n",
    "    team = [team]\n",
    "\n",
    "    defend = ['Set Target']\n",
    "    toss = ['Lost']\n",
    "\n",
    "    df = df[df['Team'].isin(team)]\n",
    "    \n",
    "    df1 = df[df['Toss'].isin(toss)]\n",
    "    df1 = df1[df1['Action'].isin(defend)]\n",
    "    \n",
    "    won = df1['Result'].value_counts()['Won']\n",
    "    \n",
    "    lost = df1['Result'].value_counts()['Lost']\n",
    "\n",
    "    if 'No Result' in df1['Result'].values:\n",
    "        no_r = df['Result'].value_counts()['No Result']\n",
    "    else:\n",
    "        no_r = 0\n",
    "\n",
    "    df_dict = {'Team': [str_team,str_team,str_team],\n",
    "        'Result': ['Won', 'Lost', 'No Result'],\n",
    "        'Count': [won,lost,no_r],\n",
    "          } \n",
    "    df = pd.DataFrame.from_dict(df_dict)\n",
    "    \n",
    "    return df"
   ]
  },
  {
   "cell_type": "code",
   "execution_count": 144,
   "id": "fe252766",
   "metadata": {},
   "outputs": [
    {
     "data": {
      "text/html": [
       "<div>\n",
       "<style scoped>\n",
       "    .dataframe tbody tr th:only-of-type {\n",
       "        vertical-align: middle;\n",
       "    }\n",
       "\n",
       "    .dataframe tbody tr th {\n",
       "        vertical-align: top;\n",
       "    }\n",
       "\n",
       "    .dataframe thead th {\n",
       "        text-align: right;\n",
       "    }\n",
       "</style>\n",
       "<table border=\"1\" class=\"dataframe\">\n",
       "  <thead>\n",
       "    <tr style=\"text-align: right;\">\n",
       "      <th></th>\n",
       "      <th>Team</th>\n",
       "      <th>Result</th>\n",
       "      <th>Count</th>\n",
       "    </tr>\n",
       "  </thead>\n",
       "  <tbody>\n",
       "    <tr>\n",
       "      <th>0</th>\n",
       "      <td>New Zealand</td>\n",
       "      <td>Won</td>\n",
       "      <td>5</td>\n",
       "    </tr>\n",
       "    <tr>\n",
       "      <th>1</th>\n",
       "      <td>New Zealand</td>\n",
       "      <td>Lost</td>\n",
       "      <td>5</td>\n",
       "    </tr>\n",
       "    <tr>\n",
       "      <th>2</th>\n",
       "      <td>New Zealand</td>\n",
       "      <td>No Result</td>\n",
       "      <td>0</td>\n",
       "    </tr>\n",
       "  </tbody>\n",
       "</table>\n",
       "</div>"
      ],
      "text/plain": [
       "          Team     Result  Count\n",
       "0  New Zealand        Won      5\n",
       "1  New Zealand       Lost      5\n",
       "2  New Zealand  No Result      0"
      ]
     },
     "execution_count": 144,
     "metadata": {},
     "output_type": "execute_result"
    }
   ],
   "source": [
    "a = results_losing_toss_and_defending('New Zealand')\n",
    "a"
   ]
  },
  {
   "cell_type": "code",
   "execution_count": 145,
   "id": "0f9b2053",
   "metadata": {},
   "outputs": [],
   "source": [
    "def action_after_toss_won(team):\n",
    "    \n",
    "    df = pd.read_excel('assets/Form_analysis/Match_stats_and_results.xlsx')\n",
    "\n",
    "    str_team = team\n",
    "\n",
    "    team = [team]\n",
    "\n",
    "    toss = ['Won']\n",
    "\n",
    "    df = df[df['Team'].isin(team)]\n",
    "    \n",
    "    df1 = df[df['Toss'].isin(toss)]\n",
    "    #df1 = df1[df1['Action'].isin(defend)]\n",
    "    \n",
    "    won = df1['Action'].value_counts()['Chase']\n",
    "    \n",
    "    lost = df1['Action'].value_counts()['Set Target']\n",
    "\n",
    "    df_dict = {'Team': [str_team,str_team],\n",
    "        'Action': ['Chase', 'Set Target'],\n",
    "        'Count': [won,lost],\n",
    "          } \n",
    "    df = pd.DataFrame.from_dict(df_dict)\n",
    "    \n",
    "    return df"
   ]
  },
  {
   "cell_type": "code",
   "execution_count": 146,
   "id": "5ede03d7",
   "metadata": {},
   "outputs": [
    {
     "data": {
      "text/html": [
       "<div>\n",
       "<style scoped>\n",
       "    .dataframe tbody tr th:only-of-type {\n",
       "        vertical-align: middle;\n",
       "    }\n",
       "\n",
       "    .dataframe tbody tr th {\n",
       "        vertical-align: top;\n",
       "    }\n",
       "\n",
       "    .dataframe thead th {\n",
       "        text-align: right;\n",
       "    }\n",
       "</style>\n",
       "<table border=\"1\" class=\"dataframe\">\n",
       "  <thead>\n",
       "    <tr style=\"text-align: right;\">\n",
       "      <th></th>\n",
       "      <th>Team</th>\n",
       "      <th>Action</th>\n",
       "      <th>Count</th>\n",
       "    </tr>\n",
       "  </thead>\n",
       "  <tbody>\n",
       "    <tr>\n",
       "      <th>0</th>\n",
       "      <td>New Zealand</td>\n",
       "      <td>Chase</td>\n",
       "      <td>15</td>\n",
       "    </tr>\n",
       "    <tr>\n",
       "      <th>1</th>\n",
       "      <td>New Zealand</td>\n",
       "      <td>Set Target</td>\n",
       "      <td>5</td>\n",
       "    </tr>\n",
       "  </tbody>\n",
       "</table>\n",
       "</div>"
      ],
      "text/plain": [
       "          Team      Action  Count\n",
       "0  New Zealand       Chase     15\n",
       "1  New Zealand  Set Target      5"
      ]
     },
     "execution_count": 146,
     "metadata": {},
     "output_type": "execute_result"
    }
   ],
   "source": [
    "a = action_after_toss_won('New Zealand')\n",
    "a"
   ]
  },
  {
   "cell_type": "code",
   "execution_count": 147,
   "id": "704edf8e",
   "metadata": {},
   "outputs": [],
   "source": [
    "def action_after_toss_lost(team):\n",
    "    \n",
    "    df = pd.read_excel('assets/Form_analysis/Match_stats_and_results.xlsx')\n",
    "\n",
    "    str_team = team\n",
    "\n",
    "    team = [team]\n",
    "\n",
    "    toss = ['Lost']\n",
    "\n",
    "    df = df[df['Team'].isin(team)]\n",
    "    \n",
    "    df1 = df[df['Toss'].isin(toss)]\n",
    "    #df1 = df1[df1['Action'].isin(defend)]\n",
    "    \n",
    "    won = df1['Action'].value_counts()['Chase']\n",
    "    \n",
    "    lost = df1['Action'].value_counts()['Set Target']\n",
    "\n",
    "    df_dict = {'Team': [str_team,str_team],\n",
    "        'Action': ['Chase', 'Set Target'],\n",
    "        'Count': [won,lost],\n",
    "          } \n",
    "    df = pd.DataFrame.from_dict(df_dict)\n",
    "    \n",
    "    return df"
   ]
  },
  {
   "cell_type": "code",
   "execution_count": 148,
   "id": "cdd441aa",
   "metadata": {},
   "outputs": [
    {
     "data": {
      "text/html": [
       "<div>\n",
       "<style scoped>\n",
       "    .dataframe tbody tr th:only-of-type {\n",
       "        vertical-align: middle;\n",
       "    }\n",
       "\n",
       "    .dataframe tbody tr th {\n",
       "        vertical-align: top;\n",
       "    }\n",
       "\n",
       "    .dataframe thead th {\n",
       "        text-align: right;\n",
       "    }\n",
       "</style>\n",
       "<table border=\"1\" class=\"dataframe\">\n",
       "  <thead>\n",
       "    <tr style=\"text-align: right;\">\n",
       "      <th></th>\n",
       "      <th>Team</th>\n",
       "      <th>Action</th>\n",
       "      <th>Count</th>\n",
       "    </tr>\n",
       "  </thead>\n",
       "  <tbody>\n",
       "    <tr>\n",
       "      <th>0</th>\n",
       "      <td>New Zealand</td>\n",
       "      <td>Chase</td>\n",
       "      <td>6</td>\n",
       "    </tr>\n",
       "    <tr>\n",
       "      <th>1</th>\n",
       "      <td>New Zealand</td>\n",
       "      <td>Set Target</td>\n",
       "      <td>10</td>\n",
       "    </tr>\n",
       "  </tbody>\n",
       "</table>\n",
       "</div>"
      ],
      "text/plain": [
       "          Team      Action  Count\n",
       "0  New Zealand       Chase      6\n",
       "1  New Zealand  Set Target     10"
      ]
     },
     "execution_count": 148,
     "metadata": {},
     "output_type": "execute_result"
    }
   ],
   "source": [
    "a = action_after_toss_lost('New Zealand')\n",
    "a"
   ]
  },
  {
   "cell_type": "code",
   "execution_count": 149,
   "id": "1f1f7c87",
   "metadata": {},
   "outputs": [],
   "source": [
    "def toss_won_result(team):\n",
    "    \n",
    "    df = pd.read_excel('assets/Form_analysis/Match_stats_and_results.xlsx')\n",
    "\n",
    "    str_team = team\n",
    "\n",
    "    team = [team]\n",
    "\n",
    "    toss = ['Won']\n",
    "\n",
    "    df = df[df['Team'].isin(team)]\n",
    "    \n",
    "    df1 = df[df['Toss'].isin(toss)]\n",
    "    #df1 = df1[df1['Action'].isin(defend)]\n",
    "    \n",
    "    won = df1['Result'].value_counts()['Won']\n",
    "    \n",
    "    lost = df1['Result'].value_counts()['Lost']\n",
    "\n",
    "    df_dict = {'Team': [str_team,str_team],\n",
    "        'Result': ['Won', 'Lost'],\n",
    "        'Count': [won,lost],\n",
    "          } \n",
    "    df = pd.DataFrame.from_dict(df_dict)\n",
    "    \n",
    "    return df\n",
    "    "
   ]
  },
  {
   "cell_type": "code",
   "execution_count": 150,
   "id": "16d37796",
   "metadata": {},
   "outputs": [
    {
     "data": {
      "text/html": [
       "<div>\n",
       "<style scoped>\n",
       "    .dataframe tbody tr th:only-of-type {\n",
       "        vertical-align: middle;\n",
       "    }\n",
       "\n",
       "    .dataframe tbody tr th {\n",
       "        vertical-align: top;\n",
       "    }\n",
       "\n",
       "    .dataframe thead th {\n",
       "        text-align: right;\n",
       "    }\n",
       "</style>\n",
       "<table border=\"1\" class=\"dataframe\">\n",
       "  <thead>\n",
       "    <tr style=\"text-align: right;\">\n",
       "      <th></th>\n",
       "      <th>Team</th>\n",
       "      <th>Result</th>\n",
       "      <th>Count</th>\n",
       "    </tr>\n",
       "  </thead>\n",
       "  <tbody>\n",
       "    <tr>\n",
       "      <th>0</th>\n",
       "      <td>New Zealand</td>\n",
       "      <td>Won</td>\n",
       "      <td>13</td>\n",
       "    </tr>\n",
       "    <tr>\n",
       "      <th>1</th>\n",
       "      <td>New Zealand</td>\n",
       "      <td>Lost</td>\n",
       "      <td>5</td>\n",
       "    </tr>\n",
       "  </tbody>\n",
       "</table>\n",
       "</div>"
      ],
      "text/plain": [
       "          Team Result  Count\n",
       "0  New Zealand    Won     13\n",
       "1  New Zealand   Lost      5"
      ]
     },
     "execution_count": 150,
     "metadata": {},
     "output_type": "execute_result"
    }
   ],
   "source": [
    "a = toss_won_result('New Zealand')\n",
    "a"
   ]
  },
  {
   "cell_type": "code",
   "execution_count": 151,
   "id": "c76ddb90",
   "metadata": {},
   "outputs": [],
   "source": [
    "def toss_lost_result(team):\n",
    "    \n",
    "    df = pd.read_excel('assets/Form_analysis/Match_stats_and_results.xlsx')\n",
    "\n",
    "    str_team = team\n",
    "\n",
    "    team = [team]\n",
    "\n",
    "    toss = ['Lost']\n",
    "\n",
    "    df = df[df['Team'].isin(team)]\n",
    "    \n",
    "    df1 = df[df['Toss'].isin(toss)]\n",
    "    #df1 = df1[df1['Action'].isin(defend)]\n",
    "    \n",
    "    won = df1['Result'].value_counts()['Won']\n",
    "    \n",
    "    lost = df1['Result'].value_counts()['Lost']\n",
    "\n",
    "    df_dict = {'Team': [str_team,str_team],\n",
    "        'Result': ['Won', 'Lost'],\n",
    "        'Count': [won,lost],\n",
    "          } \n",
    "    df = pd.DataFrame.from_dict(df_dict)\n",
    "    \n",
    "    return df\n",
    "    "
   ]
  },
  {
   "cell_type": "code",
   "execution_count": 152,
   "id": "5c6b1ff4",
   "metadata": {},
   "outputs": [
    {
     "data": {
      "text/html": [
       "<div>\n",
       "<style scoped>\n",
       "    .dataframe tbody tr th:only-of-type {\n",
       "        vertical-align: middle;\n",
       "    }\n",
       "\n",
       "    .dataframe tbody tr th {\n",
       "        vertical-align: top;\n",
       "    }\n",
       "\n",
       "    .dataframe thead th {\n",
       "        text-align: right;\n",
       "    }\n",
       "</style>\n",
       "<table border=\"1\" class=\"dataframe\">\n",
       "  <thead>\n",
       "    <tr style=\"text-align: right;\">\n",
       "      <th></th>\n",
       "      <th>Team</th>\n",
       "      <th>Result</th>\n",
       "      <th>Count</th>\n",
       "    </tr>\n",
       "  </thead>\n",
       "  <tbody>\n",
       "    <tr>\n",
       "      <th>0</th>\n",
       "      <td>New Zealand</td>\n",
       "      <td>Won</td>\n",
       "      <td>9</td>\n",
       "    </tr>\n",
       "    <tr>\n",
       "      <th>1</th>\n",
       "      <td>New Zealand</td>\n",
       "      <td>Lost</td>\n",
       "      <td>7</td>\n",
       "    </tr>\n",
       "  </tbody>\n",
       "</table>\n",
       "</div>"
      ],
      "text/plain": [
       "          Team Result  Count\n",
       "0  New Zealand    Won      9\n",
       "1  New Zealand   Lost      7"
      ]
     },
     "execution_count": 152,
     "metadata": {},
     "output_type": "execute_result"
    }
   ],
   "source": [
    "a = toss_lost_result('New Zealand')\n",
    "a"
   ]
  },
  {
   "cell_type": "code",
   "execution_count": 153,
   "id": "e7694fd3",
   "metadata": {},
   "outputs": [],
   "source": [
    "def runs_batting_first(team):\n",
    "    \n",
    "    df = pd.read_excel('assets/Form_analysis/Match_stats_and_results.xlsx')\n",
    "\n",
    "    str_team = team\n",
    "\n",
    "    team = [team]\n",
    "\n",
    "    action = ['Set Target']\n",
    "    \n",
    "    df = df[df['Team'].isin(team)]\n",
    "    df1 = df[df['Action'].isin(action)]\n",
    "    df1 = df1.sort_values(by=['Runs Scored'], ascending=False)\n",
    "    \n",
    "    return df1"
   ]
  },
  {
   "cell_type": "code",
   "execution_count": 154,
   "id": "852787d8",
   "metadata": {
    "scrolled": false
   },
   "outputs": [
    {
     "data": {
      "text/html": [
       "<div>\n",
       "<style scoped>\n",
       "    .dataframe tbody tr th:only-of-type {\n",
       "        vertical-align: middle;\n",
       "    }\n",
       "\n",
       "    .dataframe tbody tr th {\n",
       "        vertical-align: top;\n",
       "    }\n",
       "\n",
       "    .dataframe thead th {\n",
       "        text-align: right;\n",
       "    }\n",
       "</style>\n",
       "<table border=\"1\" class=\"dataframe\">\n",
       "  <thead>\n",
       "    <tr style=\"text-align: right;\">\n",
       "      <th></th>\n",
       "      <th>Team</th>\n",
       "      <th>Toss</th>\n",
       "      <th>Action</th>\n",
       "      <th>Runs Scored</th>\n",
       "      <th>Wickets Taken</th>\n",
       "      <th>Result</th>\n",
       "      <th>Versus</th>\n",
       "    </tr>\n",
       "  </thead>\n",
       "  <tbody>\n",
       "    <tr>\n",
       "      <th>408</th>\n",
       "      <td>New Zealand</td>\n",
       "      <td>Won</td>\n",
       "      <td>Set Target</td>\n",
       "      <td>360</td>\n",
       "      <td>9</td>\n",
       "      <td>Won</td>\n",
       "      <td>Ireland</td>\n",
       "    </tr>\n",
       "    <tr>\n",
       "      <th>430</th>\n",
       "      <td>New Zealand</td>\n",
       "      <td>Lost</td>\n",
       "      <td>Set Target</td>\n",
       "      <td>336</td>\n",
       "      <td>5</td>\n",
       "      <td>Lost</td>\n",
       "      <td>Pakistan</td>\n",
       "    </tr>\n",
       "    <tr>\n",
       "      <th>363</th>\n",
       "      <td>New Zealand</td>\n",
       "      <td>Won</td>\n",
       "      <td>Set Target</td>\n",
       "      <td>333</td>\n",
       "      <td>10</td>\n",
       "      <td>Won</td>\n",
       "      <td>Netherlands</td>\n",
       "    </tr>\n",
       "    <tr>\n",
       "      <th>209</th>\n",
       "      <td>New Zealand</td>\n",
       "      <td>Won</td>\n",
       "      <td>Set Target</td>\n",
       "      <td>318</td>\n",
       "      <td>10</td>\n",
       "      <td>Won</td>\n",
       "      <td>Bangladesh</td>\n",
       "    </tr>\n",
       "    <tr>\n",
       "      <th>436</th>\n",
       "      <td>New Zealand</td>\n",
       "      <td>Won</td>\n",
       "      <td>Set Target</td>\n",
       "      <td>299</td>\n",
       "      <td>10</td>\n",
       "      <td>Won</td>\n",
       "      <td>Pakistan</td>\n",
       "    </tr>\n",
       "    <tr>\n",
       "      <th>428</th>\n",
       "      <td>New Zealand</td>\n",
       "      <td>Lost</td>\n",
       "      <td>Set Target</td>\n",
       "      <td>288</td>\n",
       "      <td>5</td>\n",
       "      <td>Lost</td>\n",
       "      <td>Pakistan</td>\n",
       "    </tr>\n",
       "    <tr>\n",
       "      <th>424</th>\n",
       "      <td>New Zealand</td>\n",
       "      <td>Lost</td>\n",
       "      <td>Set Target</td>\n",
       "      <td>274</td>\n",
       "      <td>10</td>\n",
       "      <td>Won</td>\n",
       "      <td>Sri Lanka</td>\n",
       "    </tr>\n",
       "    <tr>\n",
       "      <th>279</th>\n",
       "      <td>New Zealand</td>\n",
       "      <td>Lost</td>\n",
       "      <td>Set Target</td>\n",
       "      <td>273</td>\n",
       "      <td>10</td>\n",
       "      <td>Won</td>\n",
       "      <td>India</td>\n",
       "    </tr>\n",
       "    <tr>\n",
       "      <th>420</th>\n",
       "      <td>New Zealand</td>\n",
       "      <td>Won</td>\n",
       "      <td>Set Target</td>\n",
       "      <td>261</td>\n",
       "      <td>10</td>\n",
       "      <td>Won</td>\n",
       "      <td>Pakistan</td>\n",
       "    </tr>\n",
       "    <tr>\n",
       "      <th>418</th>\n",
       "      <td>New Zealand</td>\n",
       "      <td>Lost</td>\n",
       "      <td>Set Target</td>\n",
       "      <td>255</td>\n",
       "      <td>9</td>\n",
       "      <td>Lost</td>\n",
       "      <td>Pakistan</td>\n",
       "    </tr>\n",
       "    <tr>\n",
       "      <th>361</th>\n",
       "      <td>New Zealand</td>\n",
       "      <td>Lost</td>\n",
       "      <td>Set Target</td>\n",
       "      <td>246</td>\n",
       "      <td>10</td>\n",
       "      <td>Won</td>\n",
       "      <td>Netherlands</td>\n",
       "    </tr>\n",
       "    <tr>\n",
       "      <th>175</th>\n",
       "      <td>New Zealand</td>\n",
       "      <td>Lost</td>\n",
       "      <td>Set Target</td>\n",
       "      <td>232</td>\n",
       "      <td>8</td>\n",
       "      <td>Won</td>\n",
       "      <td>Australia</td>\n",
       "    </tr>\n",
       "    <tr>\n",
       "      <th>414</th>\n",
       "      <td>New Zealand</td>\n",
       "      <td>Lost</td>\n",
       "      <td>Set Target</td>\n",
       "      <td>212</td>\n",
       "      <td>10</td>\n",
       "      <td>Won</td>\n",
       "      <td>West Indies</td>\n",
       "    </tr>\n",
       "    <tr>\n",
       "      <th>412</th>\n",
       "      <td>New Zealand</td>\n",
       "      <td>Lost</td>\n",
       "      <td>Set Target</td>\n",
       "      <td>190</td>\n",
       "      <td>5</td>\n",
       "      <td>Lost</td>\n",
       "      <td>West Indies</td>\n",
       "    </tr>\n",
       "    <tr>\n",
       "      <th>333</th>\n",
       "      <td>New Zealand</td>\n",
       "      <td>Lost</td>\n",
       "      <td>Set Target</td>\n",
       "      <td>108</td>\n",
       "      <td>2</td>\n",
       "      <td>Lost</td>\n",
       "      <td>India</td>\n",
       "    </tr>\n",
       "  </tbody>\n",
       "</table>\n",
       "</div>"
      ],
      "text/plain": [
       "            Team  Toss      Action  Runs Scored  Wickets Taken Result  \\\n",
       "408  New Zealand   Won  Set Target          360              9    Won   \n",
       "430  New Zealand  Lost  Set Target          336              5   Lost   \n",
       "363  New Zealand   Won  Set Target          333             10    Won   \n",
       "209  New Zealand   Won  Set Target          318             10    Won   \n",
       "436  New Zealand   Won  Set Target          299             10    Won   \n",
       "428  New Zealand  Lost  Set Target          288              5   Lost   \n",
       "424  New Zealand  Lost  Set Target          274             10    Won   \n",
       "279  New Zealand  Lost  Set Target          273             10    Won   \n",
       "420  New Zealand   Won  Set Target          261             10    Won   \n",
       "418  New Zealand  Lost  Set Target          255              9   Lost   \n",
       "361  New Zealand  Lost  Set Target          246             10    Won   \n",
       "175  New Zealand  Lost  Set Target          232              8    Won   \n",
       "414  New Zealand  Lost  Set Target          212             10    Won   \n",
       "412  New Zealand  Lost  Set Target          190              5   Lost   \n",
       "333  New Zealand  Lost  Set Target          108              2   Lost   \n",
       "\n",
       "          Versus  \n",
       "408      Ireland  \n",
       "430     Pakistan  \n",
       "363  Netherlands  \n",
       "209   Bangladesh  \n",
       "436     Pakistan  \n",
       "428     Pakistan  \n",
       "424    Sri Lanka  \n",
       "279        India  \n",
       "420     Pakistan  \n",
       "418     Pakistan  \n",
       "361  Netherlands  \n",
       "175    Australia  \n",
       "414  West Indies  \n",
       "412  West Indies  \n",
       "333        India  "
      ]
     },
     "execution_count": 154,
     "metadata": {},
     "output_type": "execute_result"
    }
   ],
   "source": [
    "df13 = runs_batting_first('New Zealand')\n",
    "df13"
   ]
  },
  {
   "cell_type": "code",
   "execution_count": 155,
   "id": "15a94050",
   "metadata": {},
   "outputs": [],
   "source": [
    "def runs_batting_second(team):\n",
    "    \n",
    "    df = pd.read_excel('assets/Form_analysis/Match_stats_and_results.xlsx')\n",
    "\n",
    "    str_team = team\n",
    "\n",
    "    team = [team]\n",
    "\n",
    "    action = ['Chase']\n",
    "    \n",
    "    df = df[df['Team'].isin(team)]\n",
    "    df1 = df[df['Action'].isin(action)]\n",
    "    df1 = df1.sort_values(by=['Runs Scored'], ascending=False)\n",
    "    \n",
    "    return df1"
   ]
  },
  {
   "cell_type": "code",
   "execution_count": 156,
   "id": "3cec57f3",
   "metadata": {},
   "outputs": [
    {
     "data": {
      "text/html": [
       "<div>\n",
       "<style scoped>\n",
       "    .dataframe tbody tr th:only-of-type {\n",
       "        vertical-align: middle;\n",
       "    }\n",
       "\n",
       "    .dataframe tbody tr th {\n",
       "        vertical-align: top;\n",
       "    }\n",
       "\n",
       "    .dataframe thead th {\n",
       "        text-align: right;\n",
       "    }\n",
       "</style>\n",
       "<table border=\"1\" class=\"dataframe\">\n",
       "  <thead>\n",
       "    <tr style=\"text-align: right;\">\n",
       "      <th></th>\n",
       "      <th>Team</th>\n",
       "      <th>Toss</th>\n",
       "      <th>Action</th>\n",
       "      <th>Runs Scored</th>\n",
       "      <th>Wickets Taken</th>\n",
       "      <th>Result</th>\n",
       "      <th>Versus</th>\n",
       "    </tr>\n",
       "  </thead>\n",
       "  <tbody>\n",
       "    <tr>\n",
       "      <th>277</th>\n",
       "      <td>New Zealand</td>\n",
       "      <td>Won</td>\n",
       "      <td>Chase</td>\n",
       "      <td>348</td>\n",
       "      <td>4</td>\n",
       "      <td>Won</td>\n",
       "      <td>India</td>\n",
       "    </tr>\n",
       "    <tr>\n",
       "      <th>331</th>\n",
       "      <td>New Zealand</td>\n",
       "      <td>Lost</td>\n",
       "      <td>Chase</td>\n",
       "      <td>337</td>\n",
       "      <td>8</td>\n",
       "      <td>Lost</td>\n",
       "      <td>India</td>\n",
       "    </tr>\n",
       "    <tr>\n",
       "      <th>416</th>\n",
       "      <td>New Zealand</td>\n",
       "      <td>Won</td>\n",
       "      <td>Chase</td>\n",
       "      <td>307</td>\n",
       "      <td>8</td>\n",
       "      <td>Won</td>\n",
       "      <td>West Indies</td>\n",
       "    </tr>\n",
       "    <tr>\n",
       "      <th>410</th>\n",
       "      <td>New Zealand</td>\n",
       "      <td>Lost</td>\n",
       "      <td>Chase</td>\n",
       "      <td>307</td>\n",
       "      <td>10</td>\n",
       "      <td>Won</td>\n",
       "      <td>Scotland</td>\n",
       "    </tr>\n",
       "    <tr>\n",
       "      <th>319</th>\n",
       "      <td>New Zealand</td>\n",
       "      <td>Won</td>\n",
       "      <td>Chase</td>\n",
       "      <td>306</td>\n",
       "      <td>3</td>\n",
       "      <td>Won</td>\n",
       "      <td>India</td>\n",
       "    </tr>\n",
       "    <tr>\n",
       "      <th>404</th>\n",
       "      <td>New Zealand</td>\n",
       "      <td>Won</td>\n",
       "      <td>Chase</td>\n",
       "      <td>305</td>\n",
       "      <td>9</td>\n",
       "      <td>Won</td>\n",
       "      <td>Ireland</td>\n",
       "    </tr>\n",
       "    <tr>\n",
       "      <th>281</th>\n",
       "      <td>New Zealand</td>\n",
       "      <td>Won</td>\n",
       "      <td>Chase</td>\n",
       "      <td>300</td>\n",
       "      <td>7</td>\n",
       "      <td>Won</td>\n",
       "      <td>India</td>\n",
       "    </tr>\n",
       "    <tr>\n",
       "      <th>335</th>\n",
       "      <td>New Zealand</td>\n",
       "      <td>Won</td>\n",
       "      <td>Chase</td>\n",
       "      <td>295</td>\n",
       "      <td>9</td>\n",
       "      <td>Lost</td>\n",
       "      <td>India</td>\n",
       "    </tr>\n",
       "    <tr>\n",
       "      <th>422</th>\n",
       "      <td>New Zealand</td>\n",
       "      <td>Lost</td>\n",
       "      <td>Chase</td>\n",
       "      <td>281</td>\n",
       "      <td>9</td>\n",
       "      <td>Won</td>\n",
       "      <td>Pakistan</td>\n",
       "    </tr>\n",
       "    <tr>\n",
       "      <th>207</th>\n",
       "      <td>New Zealand</td>\n",
       "      <td>Won</td>\n",
       "      <td>Chase</td>\n",
       "      <td>275</td>\n",
       "      <td>6</td>\n",
       "      <td>Won</td>\n",
       "      <td>Bangladesh</td>\n",
       "    </tr>\n",
       "    <tr>\n",
       "      <th>432</th>\n",
       "      <td>New Zealand</td>\n",
       "      <td>Won</td>\n",
       "      <td>Chase</td>\n",
       "      <td>261</td>\n",
       "      <td>6</td>\n",
       "      <td>Lost</td>\n",
       "      <td>Pakistan</td>\n",
       "    </tr>\n",
       "    <tr>\n",
       "      <th>179</th>\n",
       "      <td>New Zealand</td>\n",
       "      <td>Won</td>\n",
       "      <td>Chase</td>\n",
       "      <td>242</td>\n",
       "      <td>5</td>\n",
       "      <td>Lost</td>\n",
       "      <td>Australia</td>\n",
       "    </tr>\n",
       "    <tr>\n",
       "      <th>434</th>\n",
       "      <td>New Zealand</td>\n",
       "      <td>Won</td>\n",
       "      <td>Chase</td>\n",
       "      <td>232</td>\n",
       "      <td>6</td>\n",
       "      <td>Lost</td>\n",
       "      <td>Pakistan</td>\n",
       "    </tr>\n",
       "    <tr>\n",
       "      <th>406</th>\n",
       "      <td>New Zealand</td>\n",
       "      <td>Won</td>\n",
       "      <td>Chase</td>\n",
       "      <td>219</td>\n",
       "      <td>10</td>\n",
       "      <td>Won</td>\n",
       "      <td>Ireland</td>\n",
       "    </tr>\n",
       "    <tr>\n",
       "      <th>359</th>\n",
       "      <td>New Zealand</td>\n",
       "      <td>Lost</td>\n",
       "      <td>Chase</td>\n",
       "      <td>204</td>\n",
       "      <td>3</td>\n",
       "      <td>Won</td>\n",
       "      <td>Netherlands</td>\n",
       "    </tr>\n",
       "    <tr>\n",
       "      <th>139</th>\n",
       "      <td>New Zealand</td>\n",
       "      <td>Lost</td>\n",
       "      <td>Chase</td>\n",
       "      <td>187</td>\n",
       "      <td>7</td>\n",
       "      <td>Lost</td>\n",
       "      <td>Australia</td>\n",
       "    </tr>\n",
       "    <tr>\n",
       "      <th>426</th>\n",
       "      <td>New Zealand</td>\n",
       "      <td>Lost</td>\n",
       "      <td>Chase</td>\n",
       "      <td>159</td>\n",
       "      <td>10</td>\n",
       "      <td>Won</td>\n",
       "      <td>Sri Lanka</td>\n",
       "    </tr>\n",
       "    <tr>\n",
       "      <th>205</th>\n",
       "      <td>New Zealand</td>\n",
       "      <td>Won</td>\n",
       "      <td>Chase</td>\n",
       "      <td>132</td>\n",
       "      <td>10</td>\n",
       "      <td>Won</td>\n",
       "      <td>Bangladesh</td>\n",
       "    </tr>\n",
       "    <tr>\n",
       "      <th>323</th>\n",
       "      <td>New Zealand</td>\n",
       "      <td>Won</td>\n",
       "      <td>Chase</td>\n",
       "      <td>104</td>\n",
       "      <td>10</td>\n",
       "      <td>No Result</td>\n",
       "      <td>India</td>\n",
       "    </tr>\n",
       "    <tr>\n",
       "      <th>177</th>\n",
       "      <td>New Zealand</td>\n",
       "      <td>Won</td>\n",
       "      <td>Chase</td>\n",
       "      <td>82</td>\n",
       "      <td>9</td>\n",
       "      <td>Lost</td>\n",
       "      <td>Australia</td>\n",
       "    </tr>\n",
       "    <tr>\n",
       "      <th>321</th>\n",
       "      <td>New Zealand</td>\n",
       "      <td>Won</td>\n",
       "      <td>Chase</td>\n",
       "      <td>0</td>\n",
       "      <td>1</td>\n",
       "      <td>No Result</td>\n",
       "      <td>India</td>\n",
       "    </tr>\n",
       "  </tbody>\n",
       "</table>\n",
       "</div>"
      ],
      "text/plain": [
       "            Team  Toss Action  Runs Scored  Wickets Taken     Result  \\\n",
       "277  New Zealand   Won  Chase          348              4        Won   \n",
       "331  New Zealand  Lost  Chase          337              8       Lost   \n",
       "416  New Zealand   Won  Chase          307              8        Won   \n",
       "410  New Zealand  Lost  Chase          307             10        Won   \n",
       "319  New Zealand   Won  Chase          306              3        Won   \n",
       "404  New Zealand   Won  Chase          305              9        Won   \n",
       "281  New Zealand   Won  Chase          300              7        Won   \n",
       "335  New Zealand   Won  Chase          295              9       Lost   \n",
       "422  New Zealand  Lost  Chase          281              9        Won   \n",
       "207  New Zealand   Won  Chase          275              6        Won   \n",
       "432  New Zealand   Won  Chase          261              6       Lost   \n",
       "179  New Zealand   Won  Chase          242              5       Lost   \n",
       "434  New Zealand   Won  Chase          232              6       Lost   \n",
       "406  New Zealand   Won  Chase          219             10        Won   \n",
       "359  New Zealand  Lost  Chase          204              3        Won   \n",
       "139  New Zealand  Lost  Chase          187              7       Lost   \n",
       "426  New Zealand  Lost  Chase          159             10        Won   \n",
       "205  New Zealand   Won  Chase          132             10        Won   \n",
       "323  New Zealand   Won  Chase          104             10  No Result   \n",
       "177  New Zealand   Won  Chase           82              9       Lost   \n",
       "321  New Zealand   Won  Chase            0              1  No Result   \n",
       "\n",
       "          Versus  \n",
       "277        India  \n",
       "331        India  \n",
       "416  West Indies  \n",
       "410     Scotland  \n",
       "319        India  \n",
       "404      Ireland  \n",
       "281        India  \n",
       "335        India  \n",
       "422     Pakistan  \n",
       "207   Bangladesh  \n",
       "432     Pakistan  \n",
       "179    Australia  \n",
       "434     Pakistan  \n",
       "406      Ireland  \n",
       "359  Netherlands  \n",
       "139    Australia  \n",
       "426    Sri Lanka  \n",
       "205   Bangladesh  \n",
       "323        India  \n",
       "177    Australia  \n",
       "321        India  "
      ]
     },
     "execution_count": 156,
     "metadata": {},
     "output_type": "execute_result"
    }
   ],
   "source": [
    "df14 = runs_batting_second('New Zealand')\n",
    "df14"
   ]
  },
  {
   "cell_type": "code",
   "execution_count": 157,
   "id": "69f4aade",
   "metadata": {},
   "outputs": [],
   "source": [
    "def wickets_taken_bowling_first(team):\n",
    "    \n",
    "    df = pd.read_excel('assets/Form_analysis/Match_stats_and_results.xlsx')\n",
    "\n",
    "    str_team = team\n",
    "\n",
    "    team = [team]\n",
    "\n",
    "    action = ['Chase']\n",
    "    \n",
    "    df = df[df['Team'].isin(team)]\n",
    "    df1 = df[df['Action'].isin(action)]\n",
    "    df1 = df1.sort_values(by=['Wickets Taken'], ascending=False)\n",
    "    \n",
    "    return df1"
   ]
  },
  {
   "cell_type": "code",
   "execution_count": 158,
   "id": "7de0f7b7",
   "metadata": {},
   "outputs": [
    {
     "data": {
      "text/html": [
       "<div>\n",
       "<style scoped>\n",
       "    .dataframe tbody tr th:only-of-type {\n",
       "        vertical-align: middle;\n",
       "    }\n",
       "\n",
       "    .dataframe tbody tr th {\n",
       "        vertical-align: top;\n",
       "    }\n",
       "\n",
       "    .dataframe thead th {\n",
       "        text-align: right;\n",
       "    }\n",
       "</style>\n",
       "<table border=\"1\" class=\"dataframe\">\n",
       "  <thead>\n",
       "    <tr style=\"text-align: right;\">\n",
       "      <th></th>\n",
       "      <th>Team</th>\n",
       "      <th>Toss</th>\n",
       "      <th>Action</th>\n",
       "      <th>Runs Scored</th>\n",
       "      <th>Wickets Taken</th>\n",
       "      <th>Result</th>\n",
       "      <th>Versus</th>\n",
       "    </tr>\n",
       "  </thead>\n",
       "  <tbody>\n",
       "    <tr>\n",
       "      <th>426</th>\n",
       "      <td>New Zealand</td>\n",
       "      <td>Lost</td>\n",
       "      <td>Chase</td>\n",
       "      <td>159</td>\n",
       "      <td>10</td>\n",
       "      <td>Won</td>\n",
       "      <td>Sri Lanka</td>\n",
       "    </tr>\n",
       "    <tr>\n",
       "      <th>205</th>\n",
       "      <td>New Zealand</td>\n",
       "      <td>Won</td>\n",
       "      <td>Chase</td>\n",
       "      <td>132</td>\n",
       "      <td>10</td>\n",
       "      <td>Won</td>\n",
       "      <td>Bangladesh</td>\n",
       "    </tr>\n",
       "    <tr>\n",
       "      <th>410</th>\n",
       "      <td>New Zealand</td>\n",
       "      <td>Lost</td>\n",
       "      <td>Chase</td>\n",
       "      <td>307</td>\n",
       "      <td>10</td>\n",
       "      <td>Won</td>\n",
       "      <td>Scotland</td>\n",
       "    </tr>\n",
       "    <tr>\n",
       "      <th>406</th>\n",
       "      <td>New Zealand</td>\n",
       "      <td>Won</td>\n",
       "      <td>Chase</td>\n",
       "      <td>219</td>\n",
       "      <td>10</td>\n",
       "      <td>Won</td>\n",
       "      <td>Ireland</td>\n",
       "    </tr>\n",
       "    <tr>\n",
       "      <th>323</th>\n",
       "      <td>New Zealand</td>\n",
       "      <td>Won</td>\n",
       "      <td>Chase</td>\n",
       "      <td>104</td>\n",
       "      <td>10</td>\n",
       "      <td>No Result</td>\n",
       "      <td>India</td>\n",
       "    </tr>\n",
       "    <tr>\n",
       "      <th>335</th>\n",
       "      <td>New Zealand</td>\n",
       "      <td>Won</td>\n",
       "      <td>Chase</td>\n",
       "      <td>295</td>\n",
       "      <td>9</td>\n",
       "      <td>Lost</td>\n",
       "      <td>India</td>\n",
       "    </tr>\n",
       "    <tr>\n",
       "      <th>422</th>\n",
       "      <td>New Zealand</td>\n",
       "      <td>Lost</td>\n",
       "      <td>Chase</td>\n",
       "      <td>281</td>\n",
       "      <td>9</td>\n",
       "      <td>Won</td>\n",
       "      <td>Pakistan</td>\n",
       "    </tr>\n",
       "    <tr>\n",
       "      <th>404</th>\n",
       "      <td>New Zealand</td>\n",
       "      <td>Won</td>\n",
       "      <td>Chase</td>\n",
       "      <td>305</td>\n",
       "      <td>9</td>\n",
       "      <td>Won</td>\n",
       "      <td>Ireland</td>\n",
       "    </tr>\n",
       "    <tr>\n",
       "      <th>177</th>\n",
       "      <td>New Zealand</td>\n",
       "      <td>Won</td>\n",
       "      <td>Chase</td>\n",
       "      <td>82</td>\n",
       "      <td>9</td>\n",
       "      <td>Lost</td>\n",
       "      <td>Australia</td>\n",
       "    </tr>\n",
       "    <tr>\n",
       "      <th>331</th>\n",
       "      <td>New Zealand</td>\n",
       "      <td>Lost</td>\n",
       "      <td>Chase</td>\n",
       "      <td>337</td>\n",
       "      <td>8</td>\n",
       "      <td>Lost</td>\n",
       "      <td>India</td>\n",
       "    </tr>\n",
       "    <tr>\n",
       "      <th>416</th>\n",
       "      <td>New Zealand</td>\n",
       "      <td>Won</td>\n",
       "      <td>Chase</td>\n",
       "      <td>307</td>\n",
       "      <td>8</td>\n",
       "      <td>Won</td>\n",
       "      <td>West Indies</td>\n",
       "    </tr>\n",
       "    <tr>\n",
       "      <th>139</th>\n",
       "      <td>New Zealand</td>\n",
       "      <td>Lost</td>\n",
       "      <td>Chase</td>\n",
       "      <td>187</td>\n",
       "      <td>7</td>\n",
       "      <td>Lost</td>\n",
       "      <td>Australia</td>\n",
       "    </tr>\n",
       "    <tr>\n",
       "      <th>281</th>\n",
       "      <td>New Zealand</td>\n",
       "      <td>Won</td>\n",
       "      <td>Chase</td>\n",
       "      <td>300</td>\n",
       "      <td>7</td>\n",
       "      <td>Won</td>\n",
       "      <td>India</td>\n",
       "    </tr>\n",
       "    <tr>\n",
       "      <th>207</th>\n",
       "      <td>New Zealand</td>\n",
       "      <td>Won</td>\n",
       "      <td>Chase</td>\n",
       "      <td>275</td>\n",
       "      <td>6</td>\n",
       "      <td>Won</td>\n",
       "      <td>Bangladesh</td>\n",
       "    </tr>\n",
       "    <tr>\n",
       "      <th>432</th>\n",
       "      <td>New Zealand</td>\n",
       "      <td>Won</td>\n",
       "      <td>Chase</td>\n",
       "      <td>261</td>\n",
       "      <td>6</td>\n",
       "      <td>Lost</td>\n",
       "      <td>Pakistan</td>\n",
       "    </tr>\n",
       "    <tr>\n",
       "      <th>434</th>\n",
       "      <td>New Zealand</td>\n",
       "      <td>Won</td>\n",
       "      <td>Chase</td>\n",
       "      <td>232</td>\n",
       "      <td>6</td>\n",
       "      <td>Lost</td>\n",
       "      <td>Pakistan</td>\n",
       "    </tr>\n",
       "    <tr>\n",
       "      <th>179</th>\n",
       "      <td>New Zealand</td>\n",
       "      <td>Won</td>\n",
       "      <td>Chase</td>\n",
       "      <td>242</td>\n",
       "      <td>5</td>\n",
       "      <td>Lost</td>\n",
       "      <td>Australia</td>\n",
       "    </tr>\n",
       "    <tr>\n",
       "      <th>277</th>\n",
       "      <td>New Zealand</td>\n",
       "      <td>Won</td>\n",
       "      <td>Chase</td>\n",
       "      <td>348</td>\n",
       "      <td>4</td>\n",
       "      <td>Won</td>\n",
       "      <td>India</td>\n",
       "    </tr>\n",
       "    <tr>\n",
       "      <th>359</th>\n",
       "      <td>New Zealand</td>\n",
       "      <td>Lost</td>\n",
       "      <td>Chase</td>\n",
       "      <td>204</td>\n",
       "      <td>3</td>\n",
       "      <td>Won</td>\n",
       "      <td>Netherlands</td>\n",
       "    </tr>\n",
       "    <tr>\n",
       "      <th>319</th>\n",
       "      <td>New Zealand</td>\n",
       "      <td>Won</td>\n",
       "      <td>Chase</td>\n",
       "      <td>306</td>\n",
       "      <td>3</td>\n",
       "      <td>Won</td>\n",
       "      <td>India</td>\n",
       "    </tr>\n",
       "    <tr>\n",
       "      <th>321</th>\n",
       "      <td>New Zealand</td>\n",
       "      <td>Won</td>\n",
       "      <td>Chase</td>\n",
       "      <td>0</td>\n",
       "      <td>1</td>\n",
       "      <td>No Result</td>\n",
       "      <td>India</td>\n",
       "    </tr>\n",
       "  </tbody>\n",
       "</table>\n",
       "</div>"
      ],
      "text/plain": [
       "            Team  Toss Action  Runs Scored  Wickets Taken     Result  \\\n",
       "426  New Zealand  Lost  Chase          159             10        Won   \n",
       "205  New Zealand   Won  Chase          132             10        Won   \n",
       "410  New Zealand  Lost  Chase          307             10        Won   \n",
       "406  New Zealand   Won  Chase          219             10        Won   \n",
       "323  New Zealand   Won  Chase          104             10  No Result   \n",
       "335  New Zealand   Won  Chase          295              9       Lost   \n",
       "422  New Zealand  Lost  Chase          281              9        Won   \n",
       "404  New Zealand   Won  Chase          305              9        Won   \n",
       "177  New Zealand   Won  Chase           82              9       Lost   \n",
       "331  New Zealand  Lost  Chase          337              8       Lost   \n",
       "416  New Zealand   Won  Chase          307              8        Won   \n",
       "139  New Zealand  Lost  Chase          187              7       Lost   \n",
       "281  New Zealand   Won  Chase          300              7        Won   \n",
       "207  New Zealand   Won  Chase          275              6        Won   \n",
       "432  New Zealand   Won  Chase          261              6       Lost   \n",
       "434  New Zealand   Won  Chase          232              6       Lost   \n",
       "179  New Zealand   Won  Chase          242              5       Lost   \n",
       "277  New Zealand   Won  Chase          348              4        Won   \n",
       "359  New Zealand  Lost  Chase          204              3        Won   \n",
       "319  New Zealand   Won  Chase          306              3        Won   \n",
       "321  New Zealand   Won  Chase            0              1  No Result   \n",
       "\n",
       "          Versus  \n",
       "426    Sri Lanka  \n",
       "205   Bangladesh  \n",
       "410     Scotland  \n",
       "406      Ireland  \n",
       "323        India  \n",
       "335        India  \n",
       "422     Pakistan  \n",
       "404      Ireland  \n",
       "177    Australia  \n",
       "331        India  \n",
       "416  West Indies  \n",
       "139    Australia  \n",
       "281        India  \n",
       "207   Bangladesh  \n",
       "432     Pakistan  \n",
       "434     Pakistan  \n",
       "179    Australia  \n",
       "277        India  \n",
       "359  Netherlands  \n",
       "319        India  \n",
       "321        India  "
      ]
     },
     "execution_count": 158,
     "metadata": {},
     "output_type": "execute_result"
    }
   ],
   "source": [
    "a = wickets_taken_bowling_first('New Zealand')\n",
    "a"
   ]
  },
  {
   "cell_type": "code",
   "execution_count": 159,
   "id": "058fdafb",
   "metadata": {},
   "outputs": [],
   "source": [
    "def wickets_taken_bowling_second(team):\n",
    "    \n",
    "    df = pd.read_excel('assets/Form_analysis/Match_stats_and_results.xlsx')\n",
    "\n",
    "    str_team = team\n",
    "\n",
    "    team = [team]\n",
    "\n",
    "    action = ['Set Target']\n",
    "    \n",
    "    df = df[df['Team'].isin(team)]\n",
    "    df1 = df[df['Action'].isin(action)]\n",
    "    df1 = df1.sort_values(by=['Wickets Taken'], ascending=False)\n",
    "    \n",
    "    return df1"
   ]
  },
  {
   "cell_type": "code",
   "execution_count": 160,
   "id": "e189503b",
   "metadata": {},
   "outputs": [
    {
     "data": {
      "text/html": [
       "<div>\n",
       "<style scoped>\n",
       "    .dataframe tbody tr th:only-of-type {\n",
       "        vertical-align: middle;\n",
       "    }\n",
       "\n",
       "    .dataframe tbody tr th {\n",
       "        vertical-align: top;\n",
       "    }\n",
       "\n",
       "    .dataframe thead th {\n",
       "        text-align: right;\n",
       "    }\n",
       "</style>\n",
       "<table border=\"1\" class=\"dataframe\">\n",
       "  <thead>\n",
       "    <tr style=\"text-align: right;\">\n",
       "      <th></th>\n",
       "      <th>Team</th>\n",
       "      <th>Toss</th>\n",
       "      <th>Action</th>\n",
       "      <th>Runs Scored</th>\n",
       "      <th>Wickets Taken</th>\n",
       "      <th>Result</th>\n",
       "      <th>Versus</th>\n",
       "    </tr>\n",
       "  </thead>\n",
       "  <tbody>\n",
       "    <tr>\n",
       "      <th>209</th>\n",
       "      <td>New Zealand</td>\n",
       "      <td>Won</td>\n",
       "      <td>Set Target</td>\n",
       "      <td>318</td>\n",
       "      <td>10</td>\n",
       "      <td>Won</td>\n",
       "      <td>Bangladesh</td>\n",
       "    </tr>\n",
       "    <tr>\n",
       "      <th>279</th>\n",
       "      <td>New Zealand</td>\n",
       "      <td>Lost</td>\n",
       "      <td>Set Target</td>\n",
       "      <td>273</td>\n",
       "      <td>10</td>\n",
       "      <td>Won</td>\n",
       "      <td>India</td>\n",
       "    </tr>\n",
       "    <tr>\n",
       "      <th>361</th>\n",
       "      <td>New Zealand</td>\n",
       "      <td>Lost</td>\n",
       "      <td>Set Target</td>\n",
       "      <td>246</td>\n",
       "      <td>10</td>\n",
       "      <td>Won</td>\n",
       "      <td>Netherlands</td>\n",
       "    </tr>\n",
       "    <tr>\n",
       "      <th>363</th>\n",
       "      <td>New Zealand</td>\n",
       "      <td>Won</td>\n",
       "      <td>Set Target</td>\n",
       "      <td>333</td>\n",
       "      <td>10</td>\n",
       "      <td>Won</td>\n",
       "      <td>Netherlands</td>\n",
       "    </tr>\n",
       "    <tr>\n",
       "      <th>414</th>\n",
       "      <td>New Zealand</td>\n",
       "      <td>Lost</td>\n",
       "      <td>Set Target</td>\n",
       "      <td>212</td>\n",
       "      <td>10</td>\n",
       "      <td>Won</td>\n",
       "      <td>West Indies</td>\n",
       "    </tr>\n",
       "    <tr>\n",
       "      <th>420</th>\n",
       "      <td>New Zealand</td>\n",
       "      <td>Won</td>\n",
       "      <td>Set Target</td>\n",
       "      <td>261</td>\n",
       "      <td>10</td>\n",
       "      <td>Won</td>\n",
       "      <td>Pakistan</td>\n",
       "    </tr>\n",
       "    <tr>\n",
       "      <th>424</th>\n",
       "      <td>New Zealand</td>\n",
       "      <td>Lost</td>\n",
       "      <td>Set Target</td>\n",
       "      <td>274</td>\n",
       "      <td>10</td>\n",
       "      <td>Won</td>\n",
       "      <td>Sri Lanka</td>\n",
       "    </tr>\n",
       "    <tr>\n",
       "      <th>436</th>\n",
       "      <td>New Zealand</td>\n",
       "      <td>Won</td>\n",
       "      <td>Set Target</td>\n",
       "      <td>299</td>\n",
       "      <td>10</td>\n",
       "      <td>Won</td>\n",
       "      <td>Pakistan</td>\n",
       "    </tr>\n",
       "    <tr>\n",
       "      <th>408</th>\n",
       "      <td>New Zealand</td>\n",
       "      <td>Won</td>\n",
       "      <td>Set Target</td>\n",
       "      <td>360</td>\n",
       "      <td>9</td>\n",
       "      <td>Won</td>\n",
       "      <td>Ireland</td>\n",
       "    </tr>\n",
       "    <tr>\n",
       "      <th>418</th>\n",
       "      <td>New Zealand</td>\n",
       "      <td>Lost</td>\n",
       "      <td>Set Target</td>\n",
       "      <td>255</td>\n",
       "      <td>9</td>\n",
       "      <td>Lost</td>\n",
       "      <td>Pakistan</td>\n",
       "    </tr>\n",
       "    <tr>\n",
       "      <th>175</th>\n",
       "      <td>New Zealand</td>\n",
       "      <td>Lost</td>\n",
       "      <td>Set Target</td>\n",
       "      <td>232</td>\n",
       "      <td>8</td>\n",
       "      <td>Won</td>\n",
       "      <td>Australia</td>\n",
       "    </tr>\n",
       "    <tr>\n",
       "      <th>412</th>\n",
       "      <td>New Zealand</td>\n",
       "      <td>Lost</td>\n",
       "      <td>Set Target</td>\n",
       "      <td>190</td>\n",
       "      <td>5</td>\n",
       "      <td>Lost</td>\n",
       "      <td>West Indies</td>\n",
       "    </tr>\n",
       "    <tr>\n",
       "      <th>428</th>\n",
       "      <td>New Zealand</td>\n",
       "      <td>Lost</td>\n",
       "      <td>Set Target</td>\n",
       "      <td>288</td>\n",
       "      <td>5</td>\n",
       "      <td>Lost</td>\n",
       "      <td>Pakistan</td>\n",
       "    </tr>\n",
       "    <tr>\n",
       "      <th>430</th>\n",
       "      <td>New Zealand</td>\n",
       "      <td>Lost</td>\n",
       "      <td>Set Target</td>\n",
       "      <td>336</td>\n",
       "      <td>5</td>\n",
       "      <td>Lost</td>\n",
       "      <td>Pakistan</td>\n",
       "    </tr>\n",
       "    <tr>\n",
       "      <th>333</th>\n",
       "      <td>New Zealand</td>\n",
       "      <td>Lost</td>\n",
       "      <td>Set Target</td>\n",
       "      <td>108</td>\n",
       "      <td>2</td>\n",
       "      <td>Lost</td>\n",
       "      <td>India</td>\n",
       "    </tr>\n",
       "  </tbody>\n",
       "</table>\n",
       "</div>"
      ],
      "text/plain": [
       "            Team  Toss      Action  Runs Scored  Wickets Taken Result  \\\n",
       "209  New Zealand   Won  Set Target          318             10    Won   \n",
       "279  New Zealand  Lost  Set Target          273             10    Won   \n",
       "361  New Zealand  Lost  Set Target          246             10    Won   \n",
       "363  New Zealand   Won  Set Target          333             10    Won   \n",
       "414  New Zealand  Lost  Set Target          212             10    Won   \n",
       "420  New Zealand   Won  Set Target          261             10    Won   \n",
       "424  New Zealand  Lost  Set Target          274             10    Won   \n",
       "436  New Zealand   Won  Set Target          299             10    Won   \n",
       "408  New Zealand   Won  Set Target          360              9    Won   \n",
       "418  New Zealand  Lost  Set Target          255              9   Lost   \n",
       "175  New Zealand  Lost  Set Target          232              8    Won   \n",
       "412  New Zealand  Lost  Set Target          190              5   Lost   \n",
       "428  New Zealand  Lost  Set Target          288              5   Lost   \n",
       "430  New Zealand  Lost  Set Target          336              5   Lost   \n",
       "333  New Zealand  Lost  Set Target          108              2   Lost   \n",
       "\n",
       "          Versus  \n",
       "209   Bangladesh  \n",
       "279        India  \n",
       "361  Netherlands  \n",
       "363  Netherlands  \n",
       "414  West Indies  \n",
       "420     Pakistan  \n",
       "424    Sri Lanka  \n",
       "436     Pakistan  \n",
       "408      Ireland  \n",
       "418     Pakistan  \n",
       "175    Australia  \n",
       "412  West Indies  \n",
       "428     Pakistan  \n",
       "430     Pakistan  \n",
       "333        India  "
      ]
     },
     "execution_count": 160,
     "metadata": {},
     "output_type": "execute_result"
    }
   ],
   "source": [
    "a = wickets_taken_bowling_second('New Zealand')\n",
    "a"
   ]
  },
  {
   "cell_type": "code",
   "execution_count": 161,
   "id": "c31399c3",
   "metadata": {},
   "outputs": [
    {
     "data": {
      "application/vnd.plotly.v1+json": {
       "config": {
        "plotlyServerURL": "https://plot.ly"
       },
       "data": [
        {
         "marker": {
          "color": [
           360,
           336,
           333,
           318,
           299,
           288,
           274,
           273,
           261,
           255,
           246,
           232,
           212,
           190,
           108
          ],
          "coloraxis": "coloraxis"
         },
         "type": "bar",
         "x": [
          "Ireland",
          "Pakistan",
          "Netherlands",
          "Bangladesh",
          "Pakistan",
          "Pakistan",
          "Sri Lanka",
          "India",
          "Pakistan",
          "Pakistan",
          "Netherlands",
          "Australia",
          "West Indies",
          "West Indies",
          "India"
         ],
         "xaxis": "x",
         "y": [
          360,
          336,
          333,
          318,
          299,
          288,
          274,
          273,
          261,
          255,
          246,
          232,
          212,
          190,
          108
         ],
         "yaxis": "y"
        },
        {
         "marker": {
          "color": [
           348,
           337,
           307,
           307,
           306,
           305,
           300,
           295,
           281,
           275,
           261,
           242,
           232,
           219,
           204,
           187,
           159,
           132,
           104,
           82,
           0
          ],
          "coloraxis": "coloraxis"
         },
         "type": "bar",
         "x": [
          "Ireland",
          "Pakistan",
          "Netherlands",
          "Bangladesh",
          "Pakistan",
          "Pakistan",
          "Sri Lanka",
          "India",
          "Pakistan",
          "Pakistan",
          "Netherlands",
          "Australia",
          "West Indies",
          "West Indies",
          "India"
         ],
         "xaxis": "x2",
         "y": [
          360,
          336,
          333,
          318,
          299,
          288,
          274,
          273,
          261,
          255,
          246,
          232,
          212,
          190,
          108
         ],
         "yaxis": "y2"
        },
        {
         "type": "bar",
         "x": [
          "Ireland",
          "Pakistan",
          "Netherlands",
          "Bangladesh",
          "Pakistan",
          "Pakistan",
          "Sri Lanka",
          "India",
          "Pakistan",
          "Pakistan",
          "Netherlands",
          "Australia",
          "West Indies",
          "West Indies",
          "India"
         ],
         "xaxis": "x3",
         "y": [
          9,
          5,
          10,
          10,
          10,
          5,
          10,
          10,
          10,
          9,
          10,
          8,
          10,
          5,
          2
         ],
         "yaxis": "y3"
        },
        {
         "marker": {
          "color": [
           4,
           8,
           8,
           10,
           3,
           9,
           7,
           9,
           9,
           6,
           6,
           5,
           6,
           10,
           3,
           7,
           10,
           10,
           10,
           9,
           1
          ],
          "coloraxis": "coloraxis"
         },
         "type": "bar",
         "x": [
          "India",
          "India",
          "West Indies",
          "Scotland",
          "India",
          "Ireland",
          "India",
          "India",
          "Pakistan",
          "Bangladesh",
          "Pakistan",
          "Australia",
          "Pakistan",
          "Ireland",
          "Netherlands",
          "Australia",
          "Sri Lanka",
          "Bangladesh",
          "India",
          "Australia",
          "India"
         ],
         "xaxis": "x4",
         "y": [
          4,
          8,
          8,
          10,
          3,
          9,
          7,
          9,
          9,
          6,
          6,
          5,
          6,
          10,
          3,
          7,
          10,
          10,
          10,
          9,
          1
         ],
         "yaxis": "y4"
        }
       ],
       "layout": {
        "coloraxis": {
         "colorscale": [
          [
           0,
           "rgb(255,0,0)"
          ],
          [
           1,
           "rgb(0,0,255)"
          ]
         ]
        },
        "showlegend": false,
        "template": {
         "data": {
          "bar": [
           {
            "error_x": {
             "color": "#2a3f5f"
            },
            "error_y": {
             "color": "#2a3f5f"
            },
            "marker": {
             "line": {
              "color": "#E5ECF6",
              "width": 0.5
             },
             "pattern": {
              "fillmode": "overlay",
              "size": 10,
              "solidity": 0.2
             }
            },
            "type": "bar"
           }
          ],
          "barpolar": [
           {
            "marker": {
             "line": {
              "color": "#E5ECF6",
              "width": 0.5
             },
             "pattern": {
              "fillmode": "overlay",
              "size": 10,
              "solidity": 0.2
             }
            },
            "type": "barpolar"
           }
          ],
          "carpet": [
           {
            "aaxis": {
             "endlinecolor": "#2a3f5f",
             "gridcolor": "white",
             "linecolor": "white",
             "minorgridcolor": "white",
             "startlinecolor": "#2a3f5f"
            },
            "baxis": {
             "endlinecolor": "#2a3f5f",
             "gridcolor": "white",
             "linecolor": "white",
             "minorgridcolor": "white",
             "startlinecolor": "#2a3f5f"
            },
            "type": "carpet"
           }
          ],
          "choropleth": [
           {
            "colorbar": {
             "outlinewidth": 0,
             "ticks": ""
            },
            "type": "choropleth"
           }
          ],
          "contour": [
           {
            "colorbar": {
             "outlinewidth": 0,
             "ticks": ""
            },
            "colorscale": [
             [
              0,
              "#0d0887"
             ],
             [
              0.1111111111111111,
              "#46039f"
             ],
             [
              0.2222222222222222,
              "#7201a8"
             ],
             [
              0.3333333333333333,
              "#9c179e"
             ],
             [
              0.4444444444444444,
              "#bd3786"
             ],
             [
              0.5555555555555556,
              "#d8576b"
             ],
             [
              0.6666666666666666,
              "#ed7953"
             ],
             [
              0.7777777777777778,
              "#fb9f3a"
             ],
             [
              0.8888888888888888,
              "#fdca26"
             ],
             [
              1,
              "#f0f921"
             ]
            ],
            "type": "contour"
           }
          ],
          "contourcarpet": [
           {
            "colorbar": {
             "outlinewidth": 0,
             "ticks": ""
            },
            "type": "contourcarpet"
           }
          ],
          "heatmap": [
           {
            "colorbar": {
             "outlinewidth": 0,
             "ticks": ""
            },
            "colorscale": [
             [
              0,
              "#0d0887"
             ],
             [
              0.1111111111111111,
              "#46039f"
             ],
             [
              0.2222222222222222,
              "#7201a8"
             ],
             [
              0.3333333333333333,
              "#9c179e"
             ],
             [
              0.4444444444444444,
              "#bd3786"
             ],
             [
              0.5555555555555556,
              "#d8576b"
             ],
             [
              0.6666666666666666,
              "#ed7953"
             ],
             [
              0.7777777777777778,
              "#fb9f3a"
             ],
             [
              0.8888888888888888,
              "#fdca26"
             ],
             [
              1,
              "#f0f921"
             ]
            ],
            "type": "heatmap"
           }
          ],
          "heatmapgl": [
           {
            "colorbar": {
             "outlinewidth": 0,
             "ticks": ""
            },
            "colorscale": [
             [
              0,
              "#0d0887"
             ],
             [
              0.1111111111111111,
              "#46039f"
             ],
             [
              0.2222222222222222,
              "#7201a8"
             ],
             [
              0.3333333333333333,
              "#9c179e"
             ],
             [
              0.4444444444444444,
              "#bd3786"
             ],
             [
              0.5555555555555556,
              "#d8576b"
             ],
             [
              0.6666666666666666,
              "#ed7953"
             ],
             [
              0.7777777777777778,
              "#fb9f3a"
             ],
             [
              0.8888888888888888,
              "#fdca26"
             ],
             [
              1,
              "#f0f921"
             ]
            ],
            "type": "heatmapgl"
           }
          ],
          "histogram": [
           {
            "marker": {
             "pattern": {
              "fillmode": "overlay",
              "size": 10,
              "solidity": 0.2
             }
            },
            "type": "histogram"
           }
          ],
          "histogram2d": [
           {
            "colorbar": {
             "outlinewidth": 0,
             "ticks": ""
            },
            "colorscale": [
             [
              0,
              "#0d0887"
             ],
             [
              0.1111111111111111,
              "#46039f"
             ],
             [
              0.2222222222222222,
              "#7201a8"
             ],
             [
              0.3333333333333333,
              "#9c179e"
             ],
             [
              0.4444444444444444,
              "#bd3786"
             ],
             [
              0.5555555555555556,
              "#d8576b"
             ],
             [
              0.6666666666666666,
              "#ed7953"
             ],
             [
              0.7777777777777778,
              "#fb9f3a"
             ],
             [
              0.8888888888888888,
              "#fdca26"
             ],
             [
              1,
              "#f0f921"
             ]
            ],
            "type": "histogram2d"
           }
          ],
          "histogram2dcontour": [
           {
            "colorbar": {
             "outlinewidth": 0,
             "ticks": ""
            },
            "colorscale": [
             [
              0,
              "#0d0887"
             ],
             [
              0.1111111111111111,
              "#46039f"
             ],
             [
              0.2222222222222222,
              "#7201a8"
             ],
             [
              0.3333333333333333,
              "#9c179e"
             ],
             [
              0.4444444444444444,
              "#bd3786"
             ],
             [
              0.5555555555555556,
              "#d8576b"
             ],
             [
              0.6666666666666666,
              "#ed7953"
             ],
             [
              0.7777777777777778,
              "#fb9f3a"
             ],
             [
              0.8888888888888888,
              "#fdca26"
             ],
             [
              1,
              "#f0f921"
             ]
            ],
            "type": "histogram2dcontour"
           }
          ],
          "mesh3d": [
           {
            "colorbar": {
             "outlinewidth": 0,
             "ticks": ""
            },
            "type": "mesh3d"
           }
          ],
          "parcoords": [
           {
            "line": {
             "colorbar": {
              "outlinewidth": 0,
              "ticks": ""
             }
            },
            "type": "parcoords"
           }
          ],
          "pie": [
           {
            "automargin": true,
            "type": "pie"
           }
          ],
          "scatter": [
           {
            "marker": {
             "colorbar": {
              "outlinewidth": 0,
              "ticks": ""
             }
            },
            "type": "scatter"
           }
          ],
          "scatter3d": [
           {
            "line": {
             "colorbar": {
              "outlinewidth": 0,
              "ticks": ""
             }
            },
            "marker": {
             "colorbar": {
              "outlinewidth": 0,
              "ticks": ""
             }
            },
            "type": "scatter3d"
           }
          ],
          "scattercarpet": [
           {
            "marker": {
             "colorbar": {
              "outlinewidth": 0,
              "ticks": ""
             }
            },
            "type": "scattercarpet"
           }
          ],
          "scattergeo": [
           {
            "marker": {
             "colorbar": {
              "outlinewidth": 0,
              "ticks": ""
             }
            },
            "type": "scattergeo"
           }
          ],
          "scattergl": [
           {
            "marker": {
             "colorbar": {
              "outlinewidth": 0,
              "ticks": ""
             }
            },
            "type": "scattergl"
           }
          ],
          "scattermapbox": [
           {
            "marker": {
             "colorbar": {
              "outlinewidth": 0,
              "ticks": ""
             }
            },
            "type": "scattermapbox"
           }
          ],
          "scatterpolar": [
           {
            "marker": {
             "colorbar": {
              "outlinewidth": 0,
              "ticks": ""
             }
            },
            "type": "scatterpolar"
           }
          ],
          "scatterpolargl": [
           {
            "marker": {
             "colorbar": {
              "outlinewidth": 0,
              "ticks": ""
             }
            },
            "type": "scatterpolargl"
           }
          ],
          "scatterternary": [
           {
            "marker": {
             "colorbar": {
              "outlinewidth": 0,
              "ticks": ""
             }
            },
            "type": "scatterternary"
           }
          ],
          "surface": [
           {
            "colorbar": {
             "outlinewidth": 0,
             "ticks": ""
            },
            "colorscale": [
             [
              0,
              "#0d0887"
             ],
             [
              0.1111111111111111,
              "#46039f"
             ],
             [
              0.2222222222222222,
              "#7201a8"
             ],
             [
              0.3333333333333333,
              "#9c179e"
             ],
             [
              0.4444444444444444,
              "#bd3786"
             ],
             [
              0.5555555555555556,
              "#d8576b"
             ],
             [
              0.6666666666666666,
              "#ed7953"
             ],
             [
              0.7777777777777778,
              "#fb9f3a"
             ],
             [
              0.8888888888888888,
              "#fdca26"
             ],
             [
              1,
              "#f0f921"
             ]
            ],
            "type": "surface"
           }
          ],
          "table": [
           {
            "cells": {
             "fill": {
              "color": "#EBF0F8"
             },
             "line": {
              "color": "white"
             }
            },
            "header": {
             "fill": {
              "color": "#C8D4E3"
             },
             "line": {
              "color": "white"
             }
            },
            "type": "table"
           }
          ]
         },
         "layout": {
          "annotationdefaults": {
           "arrowcolor": "#2a3f5f",
           "arrowhead": 0,
           "arrowwidth": 1
          },
          "autotypenumbers": "strict",
          "coloraxis": {
           "colorbar": {
            "outlinewidth": 0,
            "ticks": ""
           }
          },
          "colorscale": {
           "diverging": [
            [
             0,
             "#8e0152"
            ],
            [
             0.1,
             "#c51b7d"
            ],
            [
             0.2,
             "#de77ae"
            ],
            [
             0.3,
             "#f1b6da"
            ],
            [
             0.4,
             "#fde0ef"
            ],
            [
             0.5,
             "#f7f7f7"
            ],
            [
             0.6,
             "#e6f5d0"
            ],
            [
             0.7,
             "#b8e186"
            ],
            [
             0.8,
             "#7fbc41"
            ],
            [
             0.9,
             "#4d9221"
            ],
            [
             1,
             "#276419"
            ]
           ],
           "sequential": [
            [
             0,
             "#0d0887"
            ],
            [
             0.1111111111111111,
             "#46039f"
            ],
            [
             0.2222222222222222,
             "#7201a8"
            ],
            [
             0.3333333333333333,
             "#9c179e"
            ],
            [
             0.4444444444444444,
             "#bd3786"
            ],
            [
             0.5555555555555556,
             "#d8576b"
            ],
            [
             0.6666666666666666,
             "#ed7953"
            ],
            [
             0.7777777777777778,
             "#fb9f3a"
            ],
            [
             0.8888888888888888,
             "#fdca26"
            ],
            [
             1,
             "#f0f921"
            ]
           ],
           "sequentialminus": [
            [
             0,
             "#0d0887"
            ],
            [
             0.1111111111111111,
             "#46039f"
            ],
            [
             0.2222222222222222,
             "#7201a8"
            ],
            [
             0.3333333333333333,
             "#9c179e"
            ],
            [
             0.4444444444444444,
             "#bd3786"
            ],
            [
             0.5555555555555556,
             "#d8576b"
            ],
            [
             0.6666666666666666,
             "#ed7953"
            ],
            [
             0.7777777777777778,
             "#fb9f3a"
            ],
            [
             0.8888888888888888,
             "#fdca26"
            ],
            [
             1,
             "#f0f921"
            ]
           ]
          },
          "colorway": [
           "#636efa",
           "#EF553B",
           "#00cc96",
           "#ab63fa",
           "#FFA15A",
           "#19d3f3",
           "#FF6692",
           "#B6E880",
           "#FF97FF",
           "#FECB52"
          ],
          "font": {
           "color": "#2a3f5f"
          },
          "geo": {
           "bgcolor": "white",
           "lakecolor": "white",
           "landcolor": "#E5ECF6",
           "showlakes": true,
           "showland": true,
           "subunitcolor": "white"
          },
          "hoverlabel": {
           "align": "left"
          },
          "hovermode": "closest",
          "mapbox": {
           "style": "light"
          },
          "paper_bgcolor": "white",
          "plot_bgcolor": "#E5ECF6",
          "polar": {
           "angularaxis": {
            "gridcolor": "white",
            "linecolor": "white",
            "ticks": ""
           },
           "bgcolor": "#E5ECF6",
           "radialaxis": {
            "gridcolor": "white",
            "linecolor": "white",
            "ticks": ""
           }
          },
          "scene": {
           "xaxis": {
            "backgroundcolor": "#E5ECF6",
            "gridcolor": "white",
            "gridwidth": 2,
            "linecolor": "white",
            "showbackground": true,
            "ticks": "",
            "zerolinecolor": "white"
           },
           "yaxis": {
            "backgroundcolor": "#E5ECF6",
            "gridcolor": "white",
            "gridwidth": 2,
            "linecolor": "white",
            "showbackground": true,
            "ticks": "",
            "zerolinecolor": "white"
           },
           "zaxis": {
            "backgroundcolor": "#E5ECF6",
            "gridcolor": "white",
            "gridwidth": 2,
            "linecolor": "white",
            "showbackground": true,
            "ticks": "",
            "zerolinecolor": "white"
           }
          },
          "shapedefaults": {
           "line": {
            "color": "#2a3f5f"
           }
          },
          "ternary": {
           "aaxis": {
            "gridcolor": "white",
            "linecolor": "white",
            "ticks": ""
           },
           "baxis": {
            "gridcolor": "white",
            "linecolor": "white",
            "ticks": ""
           },
           "bgcolor": "#E5ECF6",
           "caxis": {
            "gridcolor": "white",
            "linecolor": "white",
            "ticks": ""
           }
          },
          "title": {
           "x": 0.05
          },
          "xaxis": {
           "automargin": true,
           "gridcolor": "white",
           "linecolor": "white",
           "ticks": "",
           "title": {
            "standoff": 15
           },
           "zerolinecolor": "white",
           "zerolinewidth": 2
          },
          "yaxis": {
           "automargin": true,
           "gridcolor": "white",
           "linecolor": "white",
           "ticks": "",
           "title": {
            "standoff": 15
           },
           "zerolinecolor": "white",
           "zerolinewidth": 2
          }
         }
        },
        "xaxis": {
         "anchor": "y",
         "domain": [
          0,
          0.45
         ]
        },
        "xaxis2": {
         "anchor": "y2",
         "domain": [
          0.55,
          1
         ]
        },
        "xaxis3": {
         "anchor": "y3",
         "domain": [
          0,
          0.45
         ]
        },
        "xaxis4": {
         "anchor": "y4",
         "domain": [
          0.55,
          1
         ]
        },
        "yaxis": {
         "anchor": "x",
         "domain": [
          0.575,
          1
         ],
         "visible": false
        },
        "yaxis2": {
         "anchor": "x2",
         "domain": [
          0.575,
          1
         ],
         "matches": "y",
         "showticklabels": false,
         "visible": false
        },
        "yaxis3": {
         "anchor": "x3",
         "domain": [
          0,
          0.425
         ],
         "visible": false
        },
        "yaxis4": {
         "anchor": "x4",
         "domain": [
          0,
          0.425
         ],
         "matches": "y3",
         "showticklabels": false,
         "visible": false
        }
       }
      },
      "text/html": [
       "<div>                            <div id=\"b848c93b-67f6-4f09-b40b-adf2c61963d0\" class=\"plotly-graph-div\" style=\"height:525px; width:100%;\"></div>            <script type=\"text/javascript\">                require([\"plotly\"], function(Plotly) {                    window.PLOTLYENV=window.PLOTLYENV || {};                                    if (document.getElementById(\"b848c93b-67f6-4f09-b40b-adf2c61963d0\")) {                    Plotly.newPlot(                        \"b848c93b-67f6-4f09-b40b-adf2c61963d0\",                        [{\"marker\":{\"color\":[360,336,333,318,299,288,274,273,261,255,246,232,212,190,108],\"coloraxis\":\"coloraxis\"},\"x\":[\"Ireland\",\"Pakistan\",\"Netherlands\",\"Bangladesh\",\"Pakistan\",\"Pakistan\",\"Sri Lanka\",\"India\",\"Pakistan\",\"Pakistan\",\"Netherlands\",\"Australia\",\"West Indies\",\"West Indies\",\"India\"],\"y\":[360,336,333,318,299,288,274,273,261,255,246,232,212,190,108],\"type\":\"bar\",\"xaxis\":\"x\",\"yaxis\":\"y\"},{\"marker\":{\"color\":[348,337,307,307,306,305,300,295,281,275,261,242,232,219,204,187,159,132,104,82,0],\"coloraxis\":\"coloraxis\"},\"x\":[\"Ireland\",\"Pakistan\",\"Netherlands\",\"Bangladesh\",\"Pakistan\",\"Pakistan\",\"Sri Lanka\",\"India\",\"Pakistan\",\"Pakistan\",\"Netherlands\",\"Australia\",\"West Indies\",\"West Indies\",\"India\"],\"y\":[360,336,333,318,299,288,274,273,261,255,246,232,212,190,108],\"type\":\"bar\",\"xaxis\":\"x2\",\"yaxis\":\"y2\"},{\"x\":[\"Ireland\",\"Pakistan\",\"Netherlands\",\"Bangladesh\",\"Pakistan\",\"Pakistan\",\"Sri Lanka\",\"India\",\"Pakistan\",\"Pakistan\",\"Netherlands\",\"Australia\",\"West Indies\",\"West Indies\",\"India\"],\"y\":[9,5,10,10,10,5,10,10,10,9,10,8,10,5,2],\"type\":\"bar\",\"xaxis\":\"x3\",\"yaxis\":\"y3\"},{\"marker\":{\"color\":[4,8,8,10,3,9,7,9,9,6,6,5,6,10,3,7,10,10,10,9,1],\"coloraxis\":\"coloraxis\"},\"x\":[\"India\",\"India\",\"West Indies\",\"Scotland\",\"India\",\"Ireland\",\"India\",\"India\",\"Pakistan\",\"Bangladesh\",\"Pakistan\",\"Australia\",\"Pakistan\",\"Ireland\",\"Netherlands\",\"Australia\",\"Sri Lanka\",\"Bangladesh\",\"India\",\"Australia\",\"India\"],\"y\":[4,8,8,10,3,9,7,9,9,6,6,5,6,10,3,7,10,10,10,9,1],\"type\":\"bar\",\"xaxis\":\"x4\",\"yaxis\":\"y4\"}],                        {\"template\":{\"data\":{\"bar\":[{\"error_x\":{\"color\":\"#2a3f5f\"},\"error_y\":{\"color\":\"#2a3f5f\"},\"marker\":{\"line\":{\"color\":\"#E5ECF6\",\"width\":0.5},\"pattern\":{\"fillmode\":\"overlay\",\"size\":10,\"solidity\":0.2}},\"type\":\"bar\"}],\"barpolar\":[{\"marker\":{\"line\":{\"color\":\"#E5ECF6\",\"width\":0.5},\"pattern\":{\"fillmode\":\"overlay\",\"size\":10,\"solidity\":0.2}},\"type\":\"barpolar\"}],\"carpet\":[{\"aaxis\":{\"endlinecolor\":\"#2a3f5f\",\"gridcolor\":\"white\",\"linecolor\":\"white\",\"minorgridcolor\":\"white\",\"startlinecolor\":\"#2a3f5f\"},\"baxis\":{\"endlinecolor\":\"#2a3f5f\",\"gridcolor\":\"white\",\"linecolor\":\"white\",\"minorgridcolor\":\"white\",\"startlinecolor\":\"#2a3f5f\"},\"type\":\"carpet\"}],\"choropleth\":[{\"colorbar\":{\"outlinewidth\":0,\"ticks\":\"\"},\"type\":\"choropleth\"}],\"contour\":[{\"colorbar\":{\"outlinewidth\":0,\"ticks\":\"\"},\"colorscale\":[[0.0,\"#0d0887\"],[0.1111111111111111,\"#46039f\"],[0.2222222222222222,\"#7201a8\"],[0.3333333333333333,\"#9c179e\"],[0.4444444444444444,\"#bd3786\"],[0.5555555555555556,\"#d8576b\"],[0.6666666666666666,\"#ed7953\"],[0.7777777777777778,\"#fb9f3a\"],[0.8888888888888888,\"#fdca26\"],[1.0,\"#f0f921\"]],\"type\":\"contour\"}],\"contourcarpet\":[{\"colorbar\":{\"outlinewidth\":0,\"ticks\":\"\"},\"type\":\"contourcarpet\"}],\"heatmap\":[{\"colorbar\":{\"outlinewidth\":0,\"ticks\":\"\"},\"colorscale\":[[0.0,\"#0d0887\"],[0.1111111111111111,\"#46039f\"],[0.2222222222222222,\"#7201a8\"],[0.3333333333333333,\"#9c179e\"],[0.4444444444444444,\"#bd3786\"],[0.5555555555555556,\"#d8576b\"],[0.6666666666666666,\"#ed7953\"],[0.7777777777777778,\"#fb9f3a\"],[0.8888888888888888,\"#fdca26\"],[1.0,\"#f0f921\"]],\"type\":\"heatmap\"}],\"heatmapgl\":[{\"colorbar\":{\"outlinewidth\":0,\"ticks\":\"\"},\"colorscale\":[[0.0,\"#0d0887\"],[0.1111111111111111,\"#46039f\"],[0.2222222222222222,\"#7201a8\"],[0.3333333333333333,\"#9c179e\"],[0.4444444444444444,\"#bd3786\"],[0.5555555555555556,\"#d8576b\"],[0.6666666666666666,\"#ed7953\"],[0.7777777777777778,\"#fb9f3a\"],[0.8888888888888888,\"#fdca26\"],[1.0,\"#f0f921\"]],\"type\":\"heatmapgl\"}],\"histogram\":[{\"marker\":{\"pattern\":{\"fillmode\":\"overlay\",\"size\":10,\"solidity\":0.2}},\"type\":\"histogram\"}],\"histogram2d\":[{\"colorbar\":{\"outlinewidth\":0,\"ticks\":\"\"},\"colorscale\":[[0.0,\"#0d0887\"],[0.1111111111111111,\"#46039f\"],[0.2222222222222222,\"#7201a8\"],[0.3333333333333333,\"#9c179e\"],[0.4444444444444444,\"#bd3786\"],[0.5555555555555556,\"#d8576b\"],[0.6666666666666666,\"#ed7953\"],[0.7777777777777778,\"#fb9f3a\"],[0.8888888888888888,\"#fdca26\"],[1.0,\"#f0f921\"]],\"type\":\"histogram2d\"}],\"histogram2dcontour\":[{\"colorbar\":{\"outlinewidth\":0,\"ticks\":\"\"},\"colorscale\":[[0.0,\"#0d0887\"],[0.1111111111111111,\"#46039f\"],[0.2222222222222222,\"#7201a8\"],[0.3333333333333333,\"#9c179e\"],[0.4444444444444444,\"#bd3786\"],[0.5555555555555556,\"#d8576b\"],[0.6666666666666666,\"#ed7953\"],[0.7777777777777778,\"#fb9f3a\"],[0.8888888888888888,\"#fdca26\"],[1.0,\"#f0f921\"]],\"type\":\"histogram2dcontour\"}],\"mesh3d\":[{\"colorbar\":{\"outlinewidth\":0,\"ticks\":\"\"},\"type\":\"mesh3d\"}],\"parcoords\":[{\"line\":{\"colorbar\":{\"outlinewidth\":0,\"ticks\":\"\"}},\"type\":\"parcoords\"}],\"pie\":[{\"automargin\":true,\"type\":\"pie\"}],\"scatter\":[{\"marker\":{\"colorbar\":{\"outlinewidth\":0,\"ticks\":\"\"}},\"type\":\"scatter\"}],\"scatter3d\":[{\"line\":{\"colorbar\":{\"outlinewidth\":0,\"ticks\":\"\"}},\"marker\":{\"colorbar\":{\"outlinewidth\":0,\"ticks\":\"\"}},\"type\":\"scatter3d\"}],\"scattercarpet\":[{\"marker\":{\"colorbar\":{\"outlinewidth\":0,\"ticks\":\"\"}},\"type\":\"scattercarpet\"}],\"scattergeo\":[{\"marker\":{\"colorbar\":{\"outlinewidth\":0,\"ticks\":\"\"}},\"type\":\"scattergeo\"}],\"scattergl\":[{\"marker\":{\"colorbar\":{\"outlinewidth\":0,\"ticks\":\"\"}},\"type\":\"scattergl\"}],\"scattermapbox\":[{\"marker\":{\"colorbar\":{\"outlinewidth\":0,\"ticks\":\"\"}},\"type\":\"scattermapbox\"}],\"scatterpolar\":[{\"marker\":{\"colorbar\":{\"outlinewidth\":0,\"ticks\":\"\"}},\"type\":\"scatterpolar\"}],\"scatterpolargl\":[{\"marker\":{\"colorbar\":{\"outlinewidth\":0,\"ticks\":\"\"}},\"type\":\"scatterpolargl\"}],\"scatterternary\":[{\"marker\":{\"colorbar\":{\"outlinewidth\":0,\"ticks\":\"\"}},\"type\":\"scatterternary\"}],\"surface\":[{\"colorbar\":{\"outlinewidth\":0,\"ticks\":\"\"},\"colorscale\":[[0.0,\"#0d0887\"],[0.1111111111111111,\"#46039f\"],[0.2222222222222222,\"#7201a8\"],[0.3333333333333333,\"#9c179e\"],[0.4444444444444444,\"#bd3786\"],[0.5555555555555556,\"#d8576b\"],[0.6666666666666666,\"#ed7953\"],[0.7777777777777778,\"#fb9f3a\"],[0.8888888888888888,\"#fdca26\"],[1.0,\"#f0f921\"]],\"type\":\"surface\"}],\"table\":[{\"cells\":{\"fill\":{\"color\":\"#EBF0F8\"},\"line\":{\"color\":\"white\"}},\"header\":{\"fill\":{\"color\":\"#C8D4E3\"},\"line\":{\"color\":\"white\"}},\"type\":\"table\"}]},\"layout\":{\"annotationdefaults\":{\"arrowcolor\":\"#2a3f5f\",\"arrowhead\":0,\"arrowwidth\":1},\"autotypenumbers\":\"strict\",\"coloraxis\":{\"colorbar\":{\"outlinewidth\":0,\"ticks\":\"\"}},\"colorscale\":{\"diverging\":[[0,\"#8e0152\"],[0.1,\"#c51b7d\"],[0.2,\"#de77ae\"],[0.3,\"#f1b6da\"],[0.4,\"#fde0ef\"],[0.5,\"#f7f7f7\"],[0.6,\"#e6f5d0\"],[0.7,\"#b8e186\"],[0.8,\"#7fbc41\"],[0.9,\"#4d9221\"],[1,\"#276419\"]],\"sequential\":[[0.0,\"#0d0887\"],[0.1111111111111111,\"#46039f\"],[0.2222222222222222,\"#7201a8\"],[0.3333333333333333,\"#9c179e\"],[0.4444444444444444,\"#bd3786\"],[0.5555555555555556,\"#d8576b\"],[0.6666666666666666,\"#ed7953\"],[0.7777777777777778,\"#fb9f3a\"],[0.8888888888888888,\"#fdca26\"],[1.0,\"#f0f921\"]],\"sequentialminus\":[[0.0,\"#0d0887\"],[0.1111111111111111,\"#46039f\"],[0.2222222222222222,\"#7201a8\"],[0.3333333333333333,\"#9c179e\"],[0.4444444444444444,\"#bd3786\"],[0.5555555555555556,\"#d8576b\"],[0.6666666666666666,\"#ed7953\"],[0.7777777777777778,\"#fb9f3a\"],[0.8888888888888888,\"#fdca26\"],[1.0,\"#f0f921\"]]},\"colorway\":[\"#636efa\",\"#EF553B\",\"#00cc96\",\"#ab63fa\",\"#FFA15A\",\"#19d3f3\",\"#FF6692\",\"#B6E880\",\"#FF97FF\",\"#FECB52\"],\"font\":{\"color\":\"#2a3f5f\"},\"geo\":{\"bgcolor\":\"white\",\"lakecolor\":\"white\",\"landcolor\":\"#E5ECF6\",\"showlakes\":true,\"showland\":true,\"subunitcolor\":\"white\"},\"hoverlabel\":{\"align\":\"left\"},\"hovermode\":\"closest\",\"mapbox\":{\"style\":\"light\"},\"paper_bgcolor\":\"white\",\"plot_bgcolor\":\"#E5ECF6\",\"polar\":{\"angularaxis\":{\"gridcolor\":\"white\",\"linecolor\":\"white\",\"ticks\":\"\"},\"bgcolor\":\"#E5ECF6\",\"radialaxis\":{\"gridcolor\":\"white\",\"linecolor\":\"white\",\"ticks\":\"\"}},\"scene\":{\"xaxis\":{\"backgroundcolor\":\"#E5ECF6\",\"gridcolor\":\"white\",\"gridwidth\":2,\"linecolor\":\"white\",\"showbackground\":true,\"ticks\":\"\",\"zerolinecolor\":\"white\"},\"yaxis\":{\"backgroundcolor\":\"#E5ECF6\",\"gridcolor\":\"white\",\"gridwidth\":2,\"linecolor\":\"white\",\"showbackground\":true,\"ticks\":\"\",\"zerolinecolor\":\"white\"},\"zaxis\":{\"backgroundcolor\":\"#E5ECF6\",\"gridcolor\":\"white\",\"gridwidth\":2,\"linecolor\":\"white\",\"showbackground\":true,\"ticks\":\"\",\"zerolinecolor\":\"white\"}},\"shapedefaults\":{\"line\":{\"color\":\"#2a3f5f\"}},\"ternary\":{\"aaxis\":{\"gridcolor\":\"white\",\"linecolor\":\"white\",\"ticks\":\"\"},\"baxis\":{\"gridcolor\":\"white\",\"linecolor\":\"white\",\"ticks\":\"\"},\"bgcolor\":\"#E5ECF6\",\"caxis\":{\"gridcolor\":\"white\",\"linecolor\":\"white\",\"ticks\":\"\"}},\"title\":{\"x\":0.05},\"xaxis\":{\"automargin\":true,\"gridcolor\":\"white\",\"linecolor\":\"white\",\"ticks\":\"\",\"title\":{\"standoff\":15},\"zerolinecolor\":\"white\",\"zerolinewidth\":2},\"yaxis\":{\"automargin\":true,\"gridcolor\":\"white\",\"linecolor\":\"white\",\"ticks\":\"\",\"title\":{\"standoff\":15},\"zerolinecolor\":\"white\",\"zerolinewidth\":2}}},\"xaxis\":{\"anchor\":\"y\",\"domain\":[0.0,0.45]},\"yaxis\":{\"anchor\":\"x\",\"domain\":[0.575,1.0],\"visible\":false},\"xaxis2\":{\"anchor\":\"y2\",\"domain\":[0.55,1.0]},\"yaxis2\":{\"anchor\":\"x2\",\"domain\":[0.575,1.0],\"matches\":\"y\",\"showticklabels\":false,\"visible\":false},\"xaxis3\":{\"anchor\":\"y3\",\"domain\":[0.0,0.45]},\"yaxis3\":{\"anchor\":\"x3\",\"domain\":[0.0,0.425],\"visible\":false},\"xaxis4\":{\"anchor\":\"y4\",\"domain\":[0.55,1.0]},\"yaxis4\":{\"anchor\":\"x4\",\"domain\":[0.0,0.425],\"matches\":\"y3\",\"showticklabels\":false,\"visible\":false},\"coloraxis\":{\"colorscale\":[[0.0,\"rgb(255,0,0)\"],[1.0,\"rgb(0,0,255)\"]]},\"showlegend\":false},                        {\"responsive\": true}                    ).then(function(){\n",
       "                            \n",
       "var gd = document.getElementById('b848c93b-67f6-4f09-b40b-adf2c61963d0');\n",
       "var x = new MutationObserver(function (mutations, observer) {{\n",
       "        var display = window.getComputedStyle(gd).display;\n",
       "        if (!display || display === 'none') {{\n",
       "            console.log([gd, 'removed!']);\n",
       "            Plotly.purge(gd);\n",
       "            observer.disconnect();\n",
       "        }}\n",
       "}});\n",
       "\n",
       "// Listen for the removal of the full notebook cells\n",
       "var notebookContainer = gd.closest('#notebook-container');\n",
       "if (notebookContainer) {{\n",
       "    x.observe(notebookContainer, {childList: true});\n",
       "}}\n",
       "\n",
       "// Listen for the clearing of the current output cell\n",
       "var outputEl = gd.closest('.output');\n",
       "if (outputEl) {{\n",
       "    x.observe(outputEl, {childList: true});\n",
       "}}\n",
       "\n",
       "                        })                };                });            </script>        </div>"
      ]
     },
     "metadata": {},
     "output_type": "display_data"
    }
   ],
   "source": [
    "import plotly.graph_objects as go\n",
    "import plotly.express as px\n",
    "from plotly.subplots import make_subplots\n",
    "\n",
    "fig_1 = make_subplots(rows=2, cols=2, shared_yaxes=True)\n",
    "\n",
    "fig_1.add_trace(go.Bar(x=df13['Versus'], y=df13['Runs Scored'],\n",
    "                    marker=dict(color=df13['Runs Scored'], coloraxis=\"coloraxis\")),\n",
    "              1, 1)\n",
    "\n",
    "fig_1.add_trace(go.Bar(x=df13['Versus'], y=df13['Runs Scored'],\n",
    "                    marker=dict(color=df14['Runs Scored'], coloraxis=\"coloraxis\")),\n",
    "              1, 2)\n",
    "\n",
    "fig_1.add_trace(go.Bar(x=df13['Versus'], y=df13['Wickets Taken'],\n",
    "                    #marker=dict(color=df13['Wickets Taken'], coloraxis=\"coloraxis\")),\n",
    "                    ),2, 1)\n",
    "\n",
    "fig_1.add_trace(go.Bar(x = df14['Versus'], y=df14['Wickets Taken'],\n",
    "                    marker=dict(color=df14['Wickets Taken'], coloraxis=\"coloraxis\")),\n",
    "              2, 2)\n",
    "\n",
    "\n",
    "fig_1.update_layout(coloraxis=dict(colorscale='Bluered_r'), showlegend=False)\n",
    "#fig_1.update_layout(showlegend=False)\n",
    "#fig_1.update_xaxes(visible=False)\n",
    "fig_1.update_yaxes(visible=False)\n",
    "fig_1.show()"
   ]
  },
  {
   "cell_type": "code",
   "execution_count": null,
   "id": "6a600e06",
   "metadata": {},
   "outputs": [],
   "source": []
  }
 ],
 "metadata": {
  "kernelspec": {
   "display_name": "Python 3 (ipykernel)",
   "language": "python",
   "name": "python3"
  },
  "language_info": {
   "codemirror_mode": {
    "name": "ipython",
    "version": 3
   },
   "file_extension": ".py",
   "mimetype": "text/x-python",
   "name": "python",
   "nbconvert_exporter": "python",
   "pygments_lexer": "ipython3",
   "version": "3.10.1"
  }
 },
 "nbformat": 4,
 "nbformat_minor": 5
}
