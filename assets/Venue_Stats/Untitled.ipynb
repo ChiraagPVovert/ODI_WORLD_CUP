{
 "cells": [
  {
   "cell_type": "code",
   "execution_count": 29,
   "id": "2c10ed48",
   "metadata": {},
   "outputs": [],
   "source": [
    "import pandas as pd\n",
    "import dash_bootstrap_components as dbc"
   ]
  },
  {
   "cell_type": "code",
   "execution_count": 30,
   "id": "bf06461a",
   "metadata": {},
   "outputs": [],
   "source": [
    "df = pd.read_excel('NARENDRA MODI STADIUM - AHMEDABAD.xlsx')\n",
    "df0 = pd.DataFrame()\n",
    "df1 = pd.DataFrame()\n",
    "teams = 'PAKISTAN'"
   ]
  },
  {
   "cell_type": "code",
   "execution_count": 31,
   "id": "d4a4629f",
   "metadata": {},
   "outputs": [
    {
     "data": {
      "text/html": [
       "<div>\n",
       "<style scoped>\n",
       "    .dataframe tbody tr th:only-of-type {\n",
       "        vertical-align: middle;\n",
       "    }\n",
       "\n",
       "    .dataframe tbody tr th {\n",
       "        vertical-align: top;\n",
       "    }\n",
       "\n",
       "    .dataframe thead th {\n",
       "        text-align: right;\n",
       "    }\n",
       "</style>\n",
       "<table border=\"1\" class=\"dataframe\">\n",
       "  <thead>\n",
       "    <tr style=\"text-align: right;\">\n",
       "      <th></th>\n",
       "      <th>TEAM 1</th>\n",
       "      <th>TEAM 2</th>\n",
       "      <th>WINNER</th>\n",
       "      <th>MARGIN</th>\n",
       "      <th>GROUND</th>\n",
       "    </tr>\n",
       "  </thead>\n",
       "  <tbody>\n",
       "    <tr>\n",
       "      <th>0</th>\n",
       "      <td>INDIA</td>\n",
       "      <td>AUSTRALIA</td>\n",
       "      <td>AUSTRALIA</td>\n",
       "      <td>7 WICKETS</td>\n",
       "      <td>AHMEDABAD</td>\n",
       "    </tr>\n",
       "    <tr>\n",
       "      <th>1</th>\n",
       "      <td>INDIA</td>\n",
       "      <td>AUSTRALIA</td>\n",
       "      <td>INDIA</td>\n",
       "      <td>52 RUNS</td>\n",
       "      <td>AHMEDABAD</td>\n",
       "    </tr>\n",
       "    <tr>\n",
       "      <th>2</th>\n",
       "      <td>INDIA</td>\n",
       "      <td>ZIMBABWE</td>\n",
       "      <td>INDIA</td>\n",
       "      <td>7 WICKETS</td>\n",
       "      <td>AHMEDABAD</td>\n",
       "    </tr>\n",
       "    <tr>\n",
       "      <th>3</th>\n",
       "      <td>INDIA</td>\n",
       "      <td>WEST INDIES</td>\n",
       "      <td>WEST INDIES</td>\n",
       "      <td>2 RUNS</td>\n",
       "      <td>AHMEDABAD</td>\n",
       "    </tr>\n",
       "    <tr>\n",
       "      <th>4</th>\n",
       "      <td>INDIA</td>\n",
       "      <td>SRI LANKA</td>\n",
       "      <td>INDIA</td>\n",
       "      <td>6 RUNS</td>\n",
       "      <td>AHMEDABAD</td>\n",
       "    </tr>\n",
       "  </tbody>\n",
       "</table>\n",
       "</div>"
      ],
      "text/plain": [
       "  TEAM 1       TEAM 2       WINNER     MARGIN     GROUND\n",
       "0  INDIA    AUSTRALIA    AUSTRALIA  7 WICKETS  AHMEDABAD\n",
       "1  INDIA    AUSTRALIA        INDIA    52 RUNS  AHMEDABAD\n",
       "2  INDIA     ZIMBABWE        INDIA  7 WICKETS  AHMEDABAD\n",
       "3  INDIA  WEST INDIES  WEST INDIES     2 RUNS  AHMEDABAD\n",
       "4  INDIA    SRI LANKA        INDIA     6 RUNS  AHMEDABAD"
      ]
     },
     "execution_count": 31,
     "metadata": {},
     "output_type": "execute_result"
    }
   ],
   "source": [
    "df.head()"
   ]
  },
  {
   "cell_type": "code",
   "execution_count": 32,
   "id": "90a4322a",
   "metadata": {},
   "outputs": [
    {
     "name": "stdout",
     "output_type": "stream",
     "text": [
      "Empty DataFrame\n",
      "Columns: [TEAM 1, TEAM 2, WINNER, MARGIN, GROUND]\n",
      "Index: []\n"
     ]
    }
   ],
   "source": [
    "print(df.loc[(df['TEAM 1'] == teams)])"
   ]
  },
  {
   "cell_type": "code",
   "execution_count": 18,
   "id": "c9ee37d6",
   "metadata": {},
   "outputs": [],
   "source": [
    "if len(df.loc[(df['TEAM 1'] == teams)])>= 1:\n",
    "    df0 = df.loc[(df['TEAM 1'] == teams)]\n",
    "    df0 = df0.reset_index(drop=True)"
   ]
  },
  {
   "cell_type": "code",
   "execution_count": 19,
   "id": "e6653bc4",
   "metadata": {},
   "outputs": [],
   "source": [
    "if len(df.loc[(df['TEAM 2'] == teams)])>= 1:\n",
    "    df1 = df.loc[(df['TEAM 2'] == teams)]\n",
    "    df1 = df1.reset_index(drop=True)"
   ]
  },
  {
   "cell_type": "code",
   "execution_count": 20,
   "id": "1709cf74",
   "metadata": {},
   "outputs": [],
   "source": [
    "if len(df0)>=1 and len(df1)<=1:\n",
    "    df_conc = df0\n",
    "    \n",
    "elif len(df0)<=1 and len(df1)>=1:\n",
    "    df_conc = df1\n",
    "    \n",
    "if len(df0)>=1 and len(df1)>=1:\n",
    "    df_conc = pd.concat([df0, df1])\n",
    "    df_conc.reset_index(drop=True)    "
   ]
  },
  {
   "cell_type": "code",
   "execution_count": 21,
   "id": "d178e23f",
   "metadata": {},
   "outputs": [
    {
     "data": {
      "text/plain": [
       "1"
      ]
     },
     "execution_count": 21,
     "metadata": {},
     "output_type": "execute_result"
    }
   ],
   "source": [
    "total_matches_played = len(df_conc)\n",
    "total_matches_played"
   ]
  },
  {
   "cell_type": "code",
   "execution_count": 24,
   "id": "0051be8c",
   "metadata": {},
   "outputs": [
    {
     "data": {
      "text/plain": [
       "1"
      ]
     },
     "execution_count": 24,
     "metadata": {},
     "output_type": "execute_result"
    }
   ],
   "source": [
    "wins = len(df_conc.loc[(df_conc['WINNER'] == teams)])\n",
    "wins"
   ]
  },
  {
   "cell_type": "code",
   "execution_count": 25,
   "id": "e2156d7a",
   "metadata": {},
   "outputs": [
    {
     "data": {
      "text/plain": [
       "'100.0%'"
      ]
     },
     "execution_count": 25,
     "metadata": {},
     "output_type": "execute_result"
    }
   ],
   "source": [
    "win_percentage = (wins/total_matches_played)*100\n",
    "win_perc = str(win_percentage)+'%'\n",
    "win_perc"
   ]
  },
  {
   "cell_type": "code",
   "execution_count": 39,
   "id": "a81d76a5",
   "metadata": {},
   "outputs": [],
   "source": [
    "teams = 'PAKISTAN'\n",
    "stadium = 'NARENDRA MODI STADIUM - AHMEDABAD'\n",
    "df = pd.read_excel(stadium+'.xlsx')\n",
    "df0 = pd.DataFrame()\n",
    "df1 = pd.DataFrame()\n",
    "df_conc = pd.DataFrame()"
   ]
  },
  {
   "cell_type": "code",
   "execution_count": 45,
   "id": "4bc11f19",
   "metadata": {},
   "outputs": [],
   "source": [
    "if len(df.loc[(df['TEAM 1'] == teams)]) >= 1 or len(df.loc[(df['TEAM 2'] == teams)]) >= 1:\n",
    "    \n",
    "    df0 = df.loc[(df['TEAM 1'] == teams)]\n",
    "    df1 = df.loc[(df['TEAM 2'] == teams)]\n",
    "\n",
    "    if len(df0) >= 1 and len(df1) <= 1:\n",
    "        df_conc = df0\n",
    "\n",
    "    elif len(df0) <= 1 and len(df1) >= 1:\n",
    "        df_conc = df1\n",
    "\n",
    "    elif len(df0) >= 1 and len(df1) >= 1:\n",
    "        print(3)\n",
    "        df_conc = pd.concat([df0, df1])\n",
    "        df_conc.reset_index(drop=True)"
   ]
  },
  {
   "cell_type": "code",
   "execution_count": 46,
   "id": "731769ae",
   "metadata": {},
   "outputs": [
    {
     "data": {
      "text/html": [
       "<div>\n",
       "<style scoped>\n",
       "    .dataframe tbody tr th:only-of-type {\n",
       "        vertical-align: middle;\n",
       "    }\n",
       "\n",
       "    .dataframe tbody tr th {\n",
       "        vertical-align: top;\n",
       "    }\n",
       "\n",
       "    .dataframe thead th {\n",
       "        text-align: right;\n",
       "    }\n",
       "</style>\n",
       "<table border=\"1\" class=\"dataframe\">\n",
       "  <thead>\n",
       "    <tr style=\"text-align: right;\">\n",
       "      <th></th>\n",
       "      <th>TEAM 1</th>\n",
       "      <th>TEAM 2</th>\n",
       "      <th>WINNER</th>\n",
       "      <th>MARGIN</th>\n",
       "      <th>GROUND</th>\n",
       "    </tr>\n",
       "  </thead>\n",
       "  <tbody>\n",
       "    <tr>\n",
       "      <th>10</th>\n",
       "      <td>INDIA</td>\n",
       "      <td>PAKISTAN</td>\n",
       "      <td>PAKISTAN</td>\n",
       "      <td>3 WICKETS</td>\n",
       "      <td>AHMEDABAD</td>\n",
       "    </tr>\n",
       "  </tbody>\n",
       "</table>\n",
       "</div>"
      ],
      "text/plain": [
       "   TEAM 1    TEAM 2    WINNER     MARGIN     GROUND\n",
       "10  INDIA  PAKISTAN  PAKISTAN  3 WICKETS  AHMEDABAD"
      ]
     },
     "execution_count": 46,
     "metadata": {},
     "output_type": "execute_result"
    }
   ],
   "source": [
    "df_conc"
   ]
  },
  {
   "cell_type": "code",
   "execution_count": 47,
   "id": "3d3f3d9a",
   "metadata": {},
   "outputs": [],
   "source": [
    "    #df_conc = pd.DataFrame(df_conc)\n",
    "\n",
    "    data_table = dbc.Table.from_dataframe(df_conc, striped=True, bordered=True, hover=True, style={'text-align': 'center'}),\n",
    "\n",
    "    total_matches_played = len(df_conc)\n",
    "\n",
    "    wins = len(df_conc.loc[(df_conc['WINNER'] == teams)])\n",
    "\n",
    "    win_percentage = (wins / total_matches_played) * 100\n",
    "    win_perc = 'THE WIN PERCENTAGE OF '+teams+' IN ODI AT '+stadium+' IS '+str(win_percentage)+'%'"
   ]
  },
  {
   "cell_type": "code",
   "execution_count": null,
   "id": "0b95bc57",
   "metadata": {},
   "outputs": [],
   "source": []
  }
 ],
 "metadata": {
  "kernelspec": {
   "display_name": "Python 3 (ipykernel)",
   "language": "python",
   "name": "python3"
  },
  "language_info": {
   "codemirror_mode": {
    "name": "ipython",
    "version": 3
   },
   "file_extension": ".py",
   "mimetype": "text/x-python",
   "name": "python",
   "nbconvert_exporter": "python",
   "pygments_lexer": "ipython3",
   "version": "3.10.1"
  }
 },
 "nbformat": 4,
 "nbformat_minor": 5
}
