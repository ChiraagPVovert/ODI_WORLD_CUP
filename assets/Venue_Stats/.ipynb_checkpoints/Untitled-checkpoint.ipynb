{
 "cells": [
  {
   "cell_type": "code",
   "execution_count": 55,
   "id": "9ea4b92a",
   "metadata": {},
   "outputs": [],
   "source": [
    "import pandas as pd"
   ]
  },
  {
   "cell_type": "code",
   "execution_count": 59,
   "id": "3c5382c1",
   "metadata": {},
   "outputs": [],
   "source": [
    "df = pd.read_excel('NARENDRA MODI STADIUM - AHMEDABAD.xlsx')"
   ]
  },
  {
   "cell_type": "code",
   "execution_count": 60,
   "id": "0312200a",
   "metadata": {},
   "outputs": [
    {
     "data": {
      "text/html": [
       "<div>\n",
       "<style scoped>\n",
       "    .dataframe tbody tr th:only-of-type {\n",
       "        vertical-align: middle;\n",
       "    }\n",
       "\n",
       "    .dataframe tbody tr th {\n",
       "        vertical-align: top;\n",
       "    }\n",
       "\n",
       "    .dataframe thead th {\n",
       "        text-align: right;\n",
       "    }\n",
       "</style>\n",
       "<table border=\"1\" class=\"dataframe\">\n",
       "  <thead>\n",
       "    <tr style=\"text-align: right;\">\n",
       "      <th></th>\n",
       "      <th>TEAM 1</th>\n",
       "      <th>TEAM 2</th>\n",
       "      <th>WINNER</th>\n",
       "      <th>MARGIN</th>\n",
       "      <th>GROUND</th>\n",
       "    </tr>\n",
       "  </thead>\n",
       "  <tbody>\n",
       "    <tr>\n",
       "      <th>0</th>\n",
       "      <td>INDIA</td>\n",
       "      <td>AUSTRALIA</td>\n",
       "      <td>AUSTRALIA</td>\n",
       "      <td>7 WICKETS</td>\n",
       "      <td>AHMEDABAD</td>\n",
       "    </tr>\n",
       "    <tr>\n",
       "      <th>1</th>\n",
       "      <td>INDIA</td>\n",
       "      <td>AUSTRALIA</td>\n",
       "      <td>INDIA</td>\n",
       "      <td>52 RUNS</td>\n",
       "      <td>AHMEDABAD</td>\n",
       "    </tr>\n",
       "    <tr>\n",
       "      <th>2</th>\n",
       "      <td>INDIA</td>\n",
       "      <td>ZIMBABWE</td>\n",
       "      <td>INDIA</td>\n",
       "      <td>7 WICKETS</td>\n",
       "      <td>AHMEDABAD</td>\n",
       "    </tr>\n",
       "    <tr>\n",
       "      <th>3</th>\n",
       "      <td>INDIA</td>\n",
       "      <td>WEST INDIES</td>\n",
       "      <td>WEST INDIES</td>\n",
       "      <td>2 RUNS</td>\n",
       "      <td>AHMEDABAD</td>\n",
       "    </tr>\n",
       "    <tr>\n",
       "      <th>4</th>\n",
       "      <td>INDIA</td>\n",
       "      <td>SRI LANKA</td>\n",
       "      <td>INDIA</td>\n",
       "      <td>6 RUNS</td>\n",
       "      <td>AHMEDABAD</td>\n",
       "    </tr>\n",
       "  </tbody>\n",
       "</table>\n",
       "</div>"
      ],
      "text/plain": [
       "  TEAM 1       TEAM 2       WINNER     MARGIN     GROUND\n",
       "0  INDIA    AUSTRALIA    AUSTRALIA  7 WICKETS  AHMEDABAD\n",
       "1  INDIA    AUSTRALIA        INDIA    52 RUNS  AHMEDABAD\n",
       "2  INDIA     ZIMBABWE        INDIA  7 WICKETS  AHMEDABAD\n",
       "3  INDIA  WEST INDIES  WEST INDIES     2 RUNS  AHMEDABAD\n",
       "4  INDIA    SRI LANKA        INDIA     6 RUNS  AHMEDABAD"
      ]
     },
     "execution_count": 60,
     "metadata": {},
     "output_type": "execute_result"
    }
   ],
   "source": [
    "df.head()"
   ]
  },
  {
   "cell_type": "code",
   "execution_count": 61,
   "id": "e5c90122",
   "metadata": {},
   "outputs": [],
   "source": [
    "df0 = df.loc[(df['TEAM 1'] == 'INDIA')]\n",
    "df0 = df0.reset_index(drop=True)"
   ]
  },
  {
   "cell_type": "code",
   "execution_count": 62,
   "id": "c81ccae8",
   "metadata": {},
   "outputs": [],
   "source": [
    "df1 = df.loc[(df['TEAM 2'] == 'INDIA')]\n",
    "df1 = df1.reset_index(drop=True)"
   ]
  },
  {
   "cell_type": "code",
   "execution_count": 63,
   "id": "7ee6d950",
   "metadata": {},
   "outputs": [
    {
     "data": {
      "text/html": [
       "<div>\n",
       "<style scoped>\n",
       "    .dataframe tbody tr th:only-of-type {\n",
       "        vertical-align: middle;\n",
       "    }\n",
       "\n",
       "    .dataframe tbody tr th {\n",
       "        vertical-align: top;\n",
       "    }\n",
       "\n",
       "    .dataframe thead th {\n",
       "        text-align: right;\n",
       "    }\n",
       "</style>\n",
       "<table border=\"1\" class=\"dataframe\">\n",
       "  <thead>\n",
       "    <tr style=\"text-align: right;\">\n",
       "      <th></th>\n",
       "      <th>TEAM 1</th>\n",
       "      <th>TEAM 2</th>\n",
       "      <th>WINNER</th>\n",
       "      <th>MARGIN</th>\n",
       "      <th>GROUND</th>\n",
       "    </tr>\n",
       "  </thead>\n",
       "  <tbody>\n",
       "    <tr>\n",
       "      <th>0</th>\n",
       "      <td>INDIA</td>\n",
       "      <td>AUSTRALIA</td>\n",
       "      <td>AUSTRALIA</td>\n",
       "      <td>7 WICKETS</td>\n",
       "      <td>AHMEDABAD</td>\n",
       "    </tr>\n",
       "    <tr>\n",
       "      <th>1</th>\n",
       "      <td>INDIA</td>\n",
       "      <td>AUSTRALIA</td>\n",
       "      <td>INDIA</td>\n",
       "      <td>52 RUNS</td>\n",
       "      <td>AHMEDABAD</td>\n",
       "    </tr>\n",
       "    <tr>\n",
       "      <th>2</th>\n",
       "      <td>INDIA</td>\n",
       "      <td>ZIMBABWE</td>\n",
       "      <td>INDIA</td>\n",
       "      <td>7 WICKETS</td>\n",
       "      <td>AHMEDABAD</td>\n",
       "    </tr>\n",
       "    <tr>\n",
       "      <th>3</th>\n",
       "      <td>INDIA</td>\n",
       "      <td>WEST INDIES</td>\n",
       "      <td>WEST INDIES</td>\n",
       "      <td>2 RUNS</td>\n",
       "      <td>AHMEDABAD</td>\n",
       "    </tr>\n",
       "    <tr>\n",
       "      <th>4</th>\n",
       "      <td>INDIA</td>\n",
       "      <td>SRI LANKA</td>\n",
       "      <td>INDIA</td>\n",
       "      <td>6 RUNS</td>\n",
       "      <td>AHMEDABAD</td>\n",
       "    </tr>\n",
       "    <tr>\n",
       "      <th>5</th>\n",
       "      <td>INDIA</td>\n",
       "      <td>WEST INDIES</td>\n",
       "      <td>WEST INDIES</td>\n",
       "      <td>69 RUNS</td>\n",
       "      <td>AHMEDABAD</td>\n",
       "    </tr>\n",
       "    <tr>\n",
       "      <th>6</th>\n",
       "      <td>INDIA</td>\n",
       "      <td>ZIMBABWE</td>\n",
       "      <td>INDIA</td>\n",
       "      <td>61 RUNS</td>\n",
       "      <td>AHMEDABAD</td>\n",
       "    </tr>\n",
       "    <tr>\n",
       "      <th>7</th>\n",
       "      <td>INDIA</td>\n",
       "      <td>WEST INDIES</td>\n",
       "      <td>INDIA</td>\n",
       "      <td>5 WICKETS</td>\n",
       "      <td>AHMEDABAD</td>\n",
       "    </tr>\n",
       "    <tr>\n",
       "      <th>8</th>\n",
       "      <td>INDIA</td>\n",
       "      <td>PAKISTAN</td>\n",
       "      <td>PAKISTAN</td>\n",
       "      <td>3 WICKETS</td>\n",
       "      <td>AHMEDABAD</td>\n",
       "    </tr>\n",
       "    <tr>\n",
       "      <th>9</th>\n",
       "      <td>INDIA</td>\n",
       "      <td>SRI LANKA</td>\n",
       "      <td>SRI LANKA</td>\n",
       "      <td>5 WICKETS</td>\n",
       "      <td>AHMEDABAD</td>\n",
       "    </tr>\n",
       "    <tr>\n",
       "      <th>10</th>\n",
       "      <td>INDIA</td>\n",
       "      <td>WEST INDIES</td>\n",
       "      <td>WEST INDIES</td>\n",
       "      <td>3 WICKETS</td>\n",
       "      <td>AHMEDABAD</td>\n",
       "    </tr>\n",
       "    <tr>\n",
       "      <th>11</th>\n",
       "      <td>INDIA</td>\n",
       "      <td>SOUTH AFRICA</td>\n",
       "      <td>SOUTH AFRICA</td>\n",
       "      <td>90 RUNS</td>\n",
       "      <td>AHMEDABAD</td>\n",
       "    </tr>\n",
       "    <tr>\n",
       "      <th>12</th>\n",
       "      <td>INDIA</td>\n",
       "      <td>AUSTRALIA</td>\n",
       "      <td>INDIA</td>\n",
       "      <td>5 WICKETS</td>\n",
       "      <td>AHMEDABAD</td>\n",
       "    </tr>\n",
       "    <tr>\n",
       "      <th>13</th>\n",
       "      <td>INDIA</td>\n",
       "      <td>WEST INDIES</td>\n",
       "      <td>WEST INDIES</td>\n",
       "      <td>16 RUNS</td>\n",
       "      <td>AHMEDABAD</td>\n",
       "    </tr>\n",
       "    <tr>\n",
       "      <th>14</th>\n",
       "      <td>INDIA</td>\n",
       "      <td>SRI LANKA</td>\n",
       "      <td>INDIA</td>\n",
       "      <td>6 WICKETS</td>\n",
       "      <td>AHMEDABAD</td>\n",
       "    </tr>\n",
       "    <tr>\n",
       "      <th>15</th>\n",
       "      <td>INDIA</td>\n",
       "      <td>WEST INDIES</td>\n",
       "      <td>INDIA</td>\n",
       "      <td>6 WICKETS</td>\n",
       "      <td>AHMEDABAD</td>\n",
       "    </tr>\n",
       "    <tr>\n",
       "      <th>16</th>\n",
       "      <td>INDIA</td>\n",
       "      <td>WEST INDIES</td>\n",
       "      <td>INDIA</td>\n",
       "      <td>44 RUNS</td>\n",
       "      <td>AHMEDABAD</td>\n",
       "    </tr>\n",
       "    <tr>\n",
       "      <th>17</th>\n",
       "      <td>INDIA</td>\n",
       "      <td>WEST INDIES</td>\n",
       "      <td>INDIA</td>\n",
       "      <td>96 RUNS</td>\n",
       "      <td>AHMEDABAD</td>\n",
       "    </tr>\n",
       "  </tbody>\n",
       "</table>\n",
       "</div>"
      ],
      "text/plain": [
       "   TEAM 1        TEAM 2        WINNER     MARGIN     GROUND\n",
       "0   INDIA     AUSTRALIA     AUSTRALIA  7 WICKETS  AHMEDABAD\n",
       "1   INDIA     AUSTRALIA         INDIA    52 RUNS  AHMEDABAD\n",
       "2   INDIA      ZIMBABWE         INDIA  7 WICKETS  AHMEDABAD\n",
       "3   INDIA   WEST INDIES   WEST INDIES     2 RUNS  AHMEDABAD\n",
       "4   INDIA     SRI LANKA         INDIA     6 RUNS  AHMEDABAD\n",
       "5   INDIA   WEST INDIES   WEST INDIES    69 RUNS  AHMEDABAD\n",
       "6   INDIA      ZIMBABWE         INDIA    61 RUNS  AHMEDABAD\n",
       "7   INDIA   WEST INDIES         INDIA  5 WICKETS  AHMEDABAD\n",
       "8   INDIA      PAKISTAN      PAKISTAN  3 WICKETS  AHMEDABAD\n",
       "9   INDIA     SRI LANKA     SRI LANKA  5 WICKETS  AHMEDABAD\n",
       "10  INDIA   WEST INDIES   WEST INDIES  3 WICKETS  AHMEDABAD\n",
       "11  INDIA  SOUTH AFRICA  SOUTH AFRICA    90 RUNS  AHMEDABAD\n",
       "12  INDIA     AUSTRALIA         INDIA  5 WICKETS  AHMEDABAD\n",
       "13  INDIA   WEST INDIES   WEST INDIES    16 RUNS  AHMEDABAD\n",
       "14  INDIA     SRI LANKA         INDIA  6 WICKETS  AHMEDABAD\n",
       "15  INDIA   WEST INDIES         INDIA  6 WICKETS  AHMEDABAD\n",
       "16  INDIA   WEST INDIES         INDIA    44 RUNS  AHMEDABAD\n",
       "17  INDIA   WEST INDIES         INDIA    96 RUNS  AHMEDABAD"
      ]
     },
     "execution_count": 63,
     "metadata": {},
     "output_type": "execute_result"
    }
   ],
   "source": [
    "df_conc = pd.concat([df0, df1])\n",
    "df_conc.reset_index(drop=True)"
   ]
  },
  {
   "cell_type": "code",
   "execution_count": 64,
   "id": "8f78b710",
   "metadata": {},
   "outputs": [
    {
     "data": {
      "text/plain": [
       "18"
      ]
     },
     "execution_count": 64,
     "metadata": {},
     "output_type": "execute_result"
    }
   ],
   "source": [
    "total_matches_played = len(df_conc)\n",
    "total_matches_played"
   ]
  },
  {
   "cell_type": "code",
   "execution_count": 65,
   "id": "5fd2bbc1",
   "metadata": {},
   "outputs": [
    {
     "data": {
      "text/plain": [
       "10"
      ]
     },
     "execution_count": 65,
     "metadata": {},
     "output_type": "execute_result"
    }
   ],
   "source": [
    "wins = len(df_conc.loc[(df_conc['WINNER'] == 'INDIA')])\n",
    "wins"
   ]
  },
  {
   "cell_type": "code",
   "execution_count": 66,
   "id": "05d44251",
   "metadata": {},
   "outputs": [
    {
     "data": {
      "text/plain": [
       "'55.55555555555556%'"
      ]
     },
     "execution_count": 66,
     "metadata": {},
     "output_type": "execute_result"
    }
   ],
   "source": [
    "win_percentage = (wins/total_matches_played)*100\n",
    "win_perc = str(win_percentage)+'%'\n",
    "win_perc"
   ]
  },
  {
   "cell_type": "code",
   "execution_count": null,
   "id": "7417c172",
   "metadata": {},
   "outputs": [],
   "source": []
  }
 ],
 "metadata": {
  "kernelspec": {
   "display_name": "Python 3 (ipykernel)",
   "language": "python",
   "name": "python3"
  },
  "language_info": {
   "codemirror_mode": {
    "name": "ipython",
    "version": 3
   },
   "file_extension": ".py",
   "mimetype": "text/x-python",
   "name": "python",
   "nbconvert_exporter": "python",
   "pygments_lexer": "ipython3",
   "version": "3.10.1"
  }
 },
 "nbformat": 4,
 "nbformat_minor": 5
}
